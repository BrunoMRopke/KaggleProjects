{
 "cells": [
  {
   "cell_type": "code",
   "execution_count": 1,
   "id": "e31cf456",
   "metadata": {
    "_cell_guid": "b1076dfc-b9ad-4769-8c92-a6c4dae69d19",
    "_uuid": "8f2839f25d086af736a60e9eeb907d3b93b6e0e5",
    "execution": {
     "iopub.execute_input": "2024-02-01T17:13:03.508850Z",
     "iopub.status.busy": "2024-02-01T17:13:03.508479Z",
     "iopub.status.idle": "2024-02-01T17:13:04.434110Z",
     "shell.execute_reply": "2024-02-01T17:13:04.432471Z"
    },
    "papermill": {
     "duration": 0.939386,
     "end_time": "2024-02-01T17:13:04.437116",
     "exception": false,
     "start_time": "2024-02-01T17:13:03.497730",
     "status": "completed"
    },
    "tags": []
   },
   "outputs": [
    {
     "name": "stdout",
     "output_type": "stream",
     "text": [
      "/kaggle/input/nasa-nearest-earth-objects/neo_v2.csv\n",
      "/kaggle/input/nasa-nearest-earth-objects/neo.csv\n"
     ]
    }
   ],
   "source": [
    "# This Python 3 environment comes with many helpful analytics libraries installed\n",
    "# It is defined by the kaggle/python Docker image: https://github.com/kaggle/docker-python\n",
    "# For example, here's several helpful packages to load\n",
    "\n",
    "import numpy as np # linear algebra\n",
    "import pandas as pd # data processing, CSV file I/O (e.g. pd.read_csv)\n",
    "\n",
    "# Input data files are available in the read-only \"../input/\" directory\n",
    "# For example, running this (by clicking run or pressing Shift+Enter) will list all files under the input directory\n",
    "\n",
    "import os\n",
    "for dirname, _, filenames in os.walk('/kaggle/input'):\n",
    "    for filename in filenames:\n",
    "        print(os.path.join(dirname, filename))\n",
    "\n",
    "# You can write up to 20GB to the current directory (/kaggle/working/) that gets preserved as output when you create a version using \"Save & Run All\" \n",
    "# You can also write temporary files to /kaggle/temp/, but they won't be saved outside of the current session"
   ]
  },
  {
   "cell_type": "code",
   "execution_count": 2,
   "id": "313cbef7",
   "metadata": {
    "execution": {
     "iopub.execute_input": "2024-02-01T17:13:04.457915Z",
     "iopub.status.busy": "2024-02-01T17:13:04.457388Z",
     "iopub.status.idle": "2024-02-01T17:13:06.614522Z",
     "shell.execute_reply": "2024-02-01T17:13:06.613191Z"
    },
    "papermill": {
     "duration": 2.170548,
     "end_time": "2024-02-01T17:13:06.616903",
     "exception": false,
     "start_time": "2024-02-01T17:13:04.446355",
     "status": "completed"
    },
    "tags": []
   },
   "outputs": [],
   "source": [
    "import seaborn as sns \n",
    "import matplotlib.pyplot as plt \n",
    "from sklearn.model_selection import train_test_split\n",
    "from sklearn.tree import DecisionTreeClassifier\n",
    "from sklearn.ensemble import RandomForestClassifier\n",
    "from xgboost import XGBClassifier\n",
    "from sklearn.metrics import roc_curve,roc_auc_score\n",
    "from sklearn.model_selection import GridSearchCV\n",
    "from sklearn.model_selection import cross_val_score\n",
    "\n",
    "from sklearn.preprocessing import StandardScaler\n",
    "from sklearn.linear_model import LinearRegression\n",
    "from sklearn.ensemble import GradientBoostingRegressor,AdaBoostClassifier\n",
    "from sklearn.svm import SVC\n",
    "from sklearn.neighbors import KNeighborsClassifier\n",
    "from sklearn.neural_network import MLPRegressor"
   ]
  },
  {
   "cell_type": "code",
   "execution_count": 3,
   "id": "4047e5c3",
   "metadata": {
    "execution": {
     "iopub.execute_input": "2024-02-01T17:13:06.636343Z",
     "iopub.status.busy": "2024-02-01T17:13:06.635896Z",
     "iopub.status.idle": "2024-02-01T17:13:06.968965Z",
     "shell.execute_reply": "2024-02-01T17:13:06.968038Z"
    },
    "papermill": {
     "duration": 0.345722,
     "end_time": "2024-02-01T17:13:06.971370",
     "exception": false,
     "start_time": "2024-02-01T17:13:06.625648",
     "status": "completed"
    },
    "tags": []
   },
   "outputs": [],
   "source": [
    "df = pd.read_csv('/kaggle/input/nasa-nearest-earth-objects/neo.csv')"
   ]
  },
  {
   "cell_type": "code",
   "execution_count": 4,
   "id": "0975aebd",
   "metadata": {
    "execution": {
     "iopub.execute_input": "2024-02-01T17:13:06.990893Z",
     "iopub.status.busy": "2024-02-01T17:13:06.990064Z",
     "iopub.status.idle": "2024-02-01T17:13:07.014167Z",
     "shell.execute_reply": "2024-02-01T17:13:07.013002Z"
    },
    "papermill": {
     "duration": 0.037368,
     "end_time": "2024-02-01T17:13:07.017393",
     "exception": false,
     "start_time": "2024-02-01T17:13:06.980025",
     "status": "completed"
    },
    "tags": []
   },
   "outputs": [
    {
     "data": {
      "text/html": [
       "<div>\n",
       "<style scoped>\n",
       "    .dataframe tbody tr th:only-of-type {\n",
       "        vertical-align: middle;\n",
       "    }\n",
       "\n",
       "    .dataframe tbody tr th {\n",
       "        vertical-align: top;\n",
       "    }\n",
       "\n",
       "    .dataframe thead th {\n",
       "        text-align: right;\n",
       "    }\n",
       "</style>\n",
       "<table border=\"1\" class=\"dataframe\">\n",
       "  <thead>\n",
       "    <tr style=\"text-align: right;\">\n",
       "      <th></th>\n",
       "      <th>id</th>\n",
       "      <th>name</th>\n",
       "      <th>est_diameter_min</th>\n",
       "      <th>est_diameter_max</th>\n",
       "      <th>relative_velocity</th>\n",
       "      <th>miss_distance</th>\n",
       "      <th>orbiting_body</th>\n",
       "      <th>sentry_object</th>\n",
       "      <th>absolute_magnitude</th>\n",
       "      <th>hazardous</th>\n",
       "    </tr>\n",
       "  </thead>\n",
       "  <tbody>\n",
       "    <tr>\n",
       "      <th>0</th>\n",
       "      <td>2162635</td>\n",
       "      <td>162635 (2000 SS164)</td>\n",
       "      <td>1.198271</td>\n",
       "      <td>2.679415</td>\n",
       "      <td>13569.249224</td>\n",
       "      <td>5.483974e+07</td>\n",
       "      <td>Earth</td>\n",
       "      <td>False</td>\n",
       "      <td>16.73</td>\n",
       "      <td>False</td>\n",
       "    </tr>\n",
       "    <tr>\n",
       "      <th>1</th>\n",
       "      <td>2277475</td>\n",
       "      <td>277475 (2005 WK4)</td>\n",
       "      <td>0.265800</td>\n",
       "      <td>0.594347</td>\n",
       "      <td>73588.726663</td>\n",
       "      <td>6.143813e+07</td>\n",
       "      <td>Earth</td>\n",
       "      <td>False</td>\n",
       "      <td>20.00</td>\n",
       "      <td>True</td>\n",
       "    </tr>\n",
       "    <tr>\n",
       "      <th>2</th>\n",
       "      <td>2512244</td>\n",
       "      <td>512244 (2015 YE18)</td>\n",
       "      <td>0.722030</td>\n",
       "      <td>1.614507</td>\n",
       "      <td>114258.692129</td>\n",
       "      <td>4.979872e+07</td>\n",
       "      <td>Earth</td>\n",
       "      <td>False</td>\n",
       "      <td>17.83</td>\n",
       "      <td>False</td>\n",
       "    </tr>\n",
       "    <tr>\n",
       "      <th>3</th>\n",
       "      <td>3596030</td>\n",
       "      <td>(2012 BV13)</td>\n",
       "      <td>0.096506</td>\n",
       "      <td>0.215794</td>\n",
       "      <td>24764.303138</td>\n",
       "      <td>2.543497e+07</td>\n",
       "      <td>Earth</td>\n",
       "      <td>False</td>\n",
       "      <td>22.20</td>\n",
       "      <td>False</td>\n",
       "    </tr>\n",
       "    <tr>\n",
       "      <th>4</th>\n",
       "      <td>3667127</td>\n",
       "      <td>(2014 GE35)</td>\n",
       "      <td>0.255009</td>\n",
       "      <td>0.570217</td>\n",
       "      <td>42737.733765</td>\n",
       "      <td>4.627557e+07</td>\n",
       "      <td>Earth</td>\n",
       "      <td>False</td>\n",
       "      <td>20.09</td>\n",
       "      <td>True</td>\n",
       "    </tr>\n",
       "  </tbody>\n",
       "</table>\n",
       "</div>"
      ],
      "text/plain": [
       "        id                 name  est_diameter_min  est_diameter_max  \\\n",
       "0  2162635  162635 (2000 SS164)          1.198271          2.679415   \n",
       "1  2277475    277475 (2005 WK4)          0.265800          0.594347   \n",
       "2  2512244   512244 (2015 YE18)          0.722030          1.614507   \n",
       "3  3596030          (2012 BV13)          0.096506          0.215794   \n",
       "4  3667127          (2014 GE35)          0.255009          0.570217   \n",
       "\n",
       "   relative_velocity  miss_distance orbiting_body  sentry_object  \\\n",
       "0       13569.249224   5.483974e+07         Earth          False   \n",
       "1       73588.726663   6.143813e+07         Earth          False   \n",
       "2      114258.692129   4.979872e+07         Earth          False   \n",
       "3       24764.303138   2.543497e+07         Earth          False   \n",
       "4       42737.733765   4.627557e+07         Earth          False   \n",
       "\n",
       "   absolute_magnitude  hazardous  \n",
       "0               16.73      False  \n",
       "1               20.00       True  \n",
       "2               17.83      False  \n",
       "3               22.20      False  \n",
       "4               20.09       True  "
      ]
     },
     "execution_count": 4,
     "metadata": {},
     "output_type": "execute_result"
    }
   ],
   "source": [
    "df.head()"
   ]
  },
  {
   "cell_type": "code",
   "execution_count": 5,
   "id": "21eb8b7f",
   "metadata": {
    "execution": {
     "iopub.execute_input": "2024-02-01T17:13:07.040036Z",
     "iopub.status.busy": "2024-02-01T17:13:07.037842Z",
     "iopub.status.idle": "2024-02-01T17:13:07.079129Z",
     "shell.execute_reply": "2024-02-01T17:13:07.076407Z"
    },
    "papermill": {
     "duration": 0.054342,
     "end_time": "2024-02-01T17:13:07.081761",
     "exception": false,
     "start_time": "2024-02-01T17:13:07.027419",
     "status": "completed"
    },
    "tags": []
   },
   "outputs": [
    {
     "name": "stdout",
     "output_type": "stream",
     "text": [
      "<class 'pandas.core.frame.DataFrame'>\n",
      "RangeIndex: 90836 entries, 0 to 90835\n",
      "Data columns (total 10 columns):\n",
      " #   Column              Non-Null Count  Dtype  \n",
      "---  ------              --------------  -----  \n",
      " 0   id                  90836 non-null  int64  \n",
      " 1   name                90836 non-null  object \n",
      " 2   est_diameter_min    90836 non-null  float64\n",
      " 3   est_diameter_max    90836 non-null  float64\n",
      " 4   relative_velocity   90836 non-null  float64\n",
      " 5   miss_distance       90836 non-null  float64\n",
      " 6   orbiting_body       90836 non-null  object \n",
      " 7   sentry_object       90836 non-null  bool   \n",
      " 8   absolute_magnitude  90836 non-null  float64\n",
      " 9   hazardous           90836 non-null  bool   \n",
      "dtypes: bool(2), float64(5), int64(1), object(2)\n",
      "memory usage: 5.7+ MB\n"
     ]
    }
   ],
   "source": [
    "df.info()"
   ]
  },
  {
   "cell_type": "code",
   "execution_count": 6,
   "id": "9b64ad43",
   "metadata": {
    "execution": {
     "iopub.execute_input": "2024-02-01T17:13:07.101368Z",
     "iopub.status.busy": "2024-02-01T17:13:07.100955Z",
     "iopub.status.idle": "2024-02-01T17:13:07.154077Z",
     "shell.execute_reply": "2024-02-01T17:13:07.152791Z"
    },
    "papermill": {
     "duration": 0.065749,
     "end_time": "2024-02-01T17:13:07.156496",
     "exception": false,
     "start_time": "2024-02-01T17:13:07.090747",
     "status": "completed"
    },
    "tags": []
   },
   "outputs": [
    {
     "data": {
      "text/html": [
       "<div>\n",
       "<style scoped>\n",
       "    .dataframe tbody tr th:only-of-type {\n",
       "        vertical-align: middle;\n",
       "    }\n",
       "\n",
       "    .dataframe tbody tr th {\n",
       "        vertical-align: top;\n",
       "    }\n",
       "\n",
       "    .dataframe thead th {\n",
       "        text-align: right;\n",
       "    }\n",
       "</style>\n",
       "<table border=\"1\" class=\"dataframe\">\n",
       "  <thead>\n",
       "    <tr style=\"text-align: right;\">\n",
       "      <th></th>\n",
       "      <th>id</th>\n",
       "      <th>est_diameter_min</th>\n",
       "      <th>est_diameter_max</th>\n",
       "      <th>relative_velocity</th>\n",
       "      <th>miss_distance</th>\n",
       "      <th>absolute_magnitude</th>\n",
       "    </tr>\n",
       "  </thead>\n",
       "  <tbody>\n",
       "    <tr>\n",
       "      <th>count</th>\n",
       "      <td>9.083600e+04</td>\n",
       "      <td>90836.000000</td>\n",
       "      <td>90836.000000</td>\n",
       "      <td>90836.000000</td>\n",
       "      <td>9.083600e+04</td>\n",
       "      <td>90836.000000</td>\n",
       "    </tr>\n",
       "    <tr>\n",
       "      <th>mean</th>\n",
       "      <td>1.438288e+07</td>\n",
       "      <td>0.127432</td>\n",
       "      <td>0.284947</td>\n",
       "      <td>48066.918918</td>\n",
       "      <td>3.706655e+07</td>\n",
       "      <td>23.527103</td>\n",
       "    </tr>\n",
       "    <tr>\n",
       "      <th>std</th>\n",
       "      <td>2.087202e+07</td>\n",
       "      <td>0.298511</td>\n",
       "      <td>0.667491</td>\n",
       "      <td>25293.296961</td>\n",
       "      <td>2.235204e+07</td>\n",
       "      <td>2.894086</td>\n",
       "    </tr>\n",
       "    <tr>\n",
       "      <th>min</th>\n",
       "      <td>2.000433e+06</td>\n",
       "      <td>0.000609</td>\n",
       "      <td>0.001362</td>\n",
       "      <td>203.346433</td>\n",
       "      <td>6.745533e+03</td>\n",
       "      <td>9.230000</td>\n",
       "    </tr>\n",
       "    <tr>\n",
       "      <th>25%</th>\n",
       "      <td>3.448110e+06</td>\n",
       "      <td>0.019256</td>\n",
       "      <td>0.043057</td>\n",
       "      <td>28619.020645</td>\n",
       "      <td>1.721082e+07</td>\n",
       "      <td>21.340000</td>\n",
       "    </tr>\n",
       "    <tr>\n",
       "      <th>50%</th>\n",
       "      <td>3.748362e+06</td>\n",
       "      <td>0.048368</td>\n",
       "      <td>0.108153</td>\n",
       "      <td>44190.117890</td>\n",
       "      <td>3.784658e+07</td>\n",
       "      <td>23.700000</td>\n",
       "    </tr>\n",
       "    <tr>\n",
       "      <th>75%</th>\n",
       "      <td>3.884023e+06</td>\n",
       "      <td>0.143402</td>\n",
       "      <td>0.320656</td>\n",
       "      <td>62923.604633</td>\n",
       "      <td>5.654900e+07</td>\n",
       "      <td>25.700000</td>\n",
       "    </tr>\n",
       "    <tr>\n",
       "      <th>max</th>\n",
       "      <td>5.427591e+07</td>\n",
       "      <td>37.892650</td>\n",
       "      <td>84.730541</td>\n",
       "      <td>236990.128088</td>\n",
       "      <td>7.479865e+07</td>\n",
       "      <td>33.200000</td>\n",
       "    </tr>\n",
       "  </tbody>\n",
       "</table>\n",
       "</div>"
      ],
      "text/plain": [
       "                 id  est_diameter_min  est_diameter_max  relative_velocity  \\\n",
       "count  9.083600e+04      90836.000000      90836.000000       90836.000000   \n",
       "mean   1.438288e+07          0.127432          0.284947       48066.918918   \n",
       "std    2.087202e+07          0.298511          0.667491       25293.296961   \n",
       "min    2.000433e+06          0.000609          0.001362         203.346433   \n",
       "25%    3.448110e+06          0.019256          0.043057       28619.020645   \n",
       "50%    3.748362e+06          0.048368          0.108153       44190.117890   \n",
       "75%    3.884023e+06          0.143402          0.320656       62923.604633   \n",
       "max    5.427591e+07         37.892650         84.730541      236990.128088   \n",
       "\n",
       "       miss_distance  absolute_magnitude  \n",
       "count   9.083600e+04        90836.000000  \n",
       "mean    3.706655e+07           23.527103  \n",
       "std     2.235204e+07            2.894086  \n",
       "min     6.745533e+03            9.230000  \n",
       "25%     1.721082e+07           21.340000  \n",
       "50%     3.784658e+07           23.700000  \n",
       "75%     5.654900e+07           25.700000  \n",
       "max     7.479865e+07           33.200000  "
      ]
     },
     "execution_count": 6,
     "metadata": {},
     "output_type": "execute_result"
    }
   ],
   "source": [
    "df.describe()"
   ]
  },
  {
   "cell_type": "code",
   "execution_count": 7,
   "id": "e38a3410",
   "metadata": {
    "execution": {
     "iopub.execute_input": "2024-02-01T17:13:07.178904Z",
     "iopub.status.busy": "2024-02-01T17:13:07.178156Z",
     "iopub.status.idle": "2024-02-01T17:13:07.198882Z",
     "shell.execute_reply": "2024-02-01T17:13:07.197724Z"
    },
    "papermill": {
     "duration": 0.034191,
     "end_time": "2024-02-01T17:13:07.201515",
     "exception": false,
     "start_time": "2024-02-01T17:13:07.167324",
     "status": "completed"
    },
    "tags": []
   },
   "outputs": [
    {
     "data": {
      "text/plain": [
       "id                    0\n",
       "name                  0\n",
       "est_diameter_min      0\n",
       "est_diameter_max      0\n",
       "relative_velocity     0\n",
       "miss_distance         0\n",
       "orbiting_body         0\n",
       "sentry_object         0\n",
       "absolute_magnitude    0\n",
       "hazardous             0\n",
       "dtype: int64"
      ]
     },
     "execution_count": 7,
     "metadata": {},
     "output_type": "execute_result"
    }
   ],
   "source": [
    "# no nulls \n",
    "df.isnull().sum() "
   ]
  },
  {
   "cell_type": "code",
   "execution_count": 8,
   "id": "d0fd661e",
   "metadata": {
    "execution": {
     "iopub.execute_input": "2024-02-01T17:13:07.222547Z",
     "iopub.status.busy": "2024-02-01T17:13:07.221526Z",
     "iopub.status.idle": "2024-02-01T17:13:07.295178Z",
     "shell.execute_reply": "2024-02-01T17:13:07.293943Z"
    },
    "papermill": {
     "duration": 0.086668,
     "end_time": "2024-02-01T17:13:07.297700",
     "exception": false,
     "start_time": "2024-02-01T17:13:07.211032",
     "status": "completed"
    },
    "tags": []
   },
   "outputs": [
    {
     "name": "stdout",
     "output_type": "stream",
     "text": [
      "               Column  Unique Values  Duplicated Values\n",
      "0                  id          27423              63413\n",
      "1                name          27423              63413\n",
      "2    est_diameter_min           1638              89198\n",
      "3    est_diameter_max           1638              89198\n",
      "4   relative_velocity          90828                  8\n",
      "5       miss_distance          90536                300\n",
      "6       orbiting_body              1              90835\n",
      "7       sentry_object              1              90835\n",
      "8  absolute_magnitude           1638              89198\n",
      "9           hazardous              2              90834\n"
     ]
    }
   ],
   "source": [
    "def analyze_duplicates_and_uniques_as_table(dataframe_name):\n",
    "    # Initialize two empty lists to store the count of unique and duplicated values for each column\n",
    "    unique_values = []\n",
    "    duplicated_values = []\n",
    "\n",
    "    # Loop through each column in the DataFrame\n",
    "    for column in dataframe_name.columns:\n",
    "        # Append the count of unique values in the column to the unique_values list\n",
    "        unique_values.append(dataframe_name[column].nunique())\n",
    "        # Append the count of duplicated values in the column to the duplicated_values list\n",
    "        duplicated_values.append(dataframe_name[column].duplicated().sum())\n",
    "\n",
    "    # Create a new DataFrame to display the results\n",
    "    # It includes the column names, count of unique values, and count of duplicated values\n",
    "    results_df = pd.DataFrame({\n",
    "        'Column': dataframe_name.columns,\n",
    "        'Unique Values': unique_values,\n",
    "        'Duplicated Values': duplicated_values\n",
    "    })\n",
    "\n",
    "    # Return the results DataFrame\n",
    "    return results_df\n",
    "\n",
    "\n",
    "result_table = analyze_duplicates_and_uniques_as_table(df)\n",
    "# Prints the resulting DataFrame which shows the unique and duplicated values count for each column in df\n",
    "print(result_table)\n"
   ]
  },
  {
   "cell_type": "code",
   "execution_count": 9,
   "id": "1057a0ba",
   "metadata": {
    "execution": {
     "iopub.execute_input": "2024-02-01T17:13:07.318504Z",
     "iopub.status.busy": "2024-02-01T17:13:07.318088Z",
     "iopub.status.idle": "2024-02-01T17:13:07.333543Z",
     "shell.execute_reply": "2024-02-01T17:13:07.332470Z"
    },
    "papermill": {
     "duration": 0.029266,
     "end_time": "2024-02-01T17:13:07.336389",
     "exception": false,
     "start_time": "2024-02-01T17:13:07.307123",
     "status": "completed"
    },
    "tags": []
   },
   "outputs": [
    {
     "data": {
      "text/html": [
       "<div>\n",
       "<style scoped>\n",
       "    .dataframe tbody tr th:only-of-type {\n",
       "        vertical-align: middle;\n",
       "    }\n",
       "\n",
       "    .dataframe tbody tr th {\n",
       "        vertical-align: top;\n",
       "    }\n",
       "\n",
       "    .dataframe thead th {\n",
       "        text-align: right;\n",
       "    }\n",
       "</style>\n",
       "<table border=\"1\" class=\"dataframe\">\n",
       "  <thead>\n",
       "    <tr style=\"text-align: right;\">\n",
       "      <th></th>\n",
       "      <th>est_diameter_min</th>\n",
       "      <th>est_diameter_max</th>\n",
       "      <th>relative_velocity</th>\n",
       "      <th>miss_distance</th>\n",
       "      <th>absolute_magnitude</th>\n",
       "      <th>hazardous</th>\n",
       "    </tr>\n",
       "  </thead>\n",
       "  <tbody>\n",
       "    <tr>\n",
       "      <th>0</th>\n",
       "      <td>1.198271</td>\n",
       "      <td>2.679415</td>\n",
       "      <td>13569.249224</td>\n",
       "      <td>5.483974e+07</td>\n",
       "      <td>16.73</td>\n",
       "      <td>False</td>\n",
       "    </tr>\n",
       "    <tr>\n",
       "      <th>1</th>\n",
       "      <td>0.265800</td>\n",
       "      <td>0.594347</td>\n",
       "      <td>73588.726663</td>\n",
       "      <td>6.143813e+07</td>\n",
       "      <td>20.00</td>\n",
       "      <td>True</td>\n",
       "    </tr>\n",
       "    <tr>\n",
       "      <th>2</th>\n",
       "      <td>0.722030</td>\n",
       "      <td>1.614507</td>\n",
       "      <td>114258.692129</td>\n",
       "      <td>4.979872e+07</td>\n",
       "      <td>17.83</td>\n",
       "      <td>False</td>\n",
       "    </tr>\n",
       "    <tr>\n",
       "      <th>3</th>\n",
       "      <td>0.096506</td>\n",
       "      <td>0.215794</td>\n",
       "      <td>24764.303138</td>\n",
       "      <td>2.543497e+07</td>\n",
       "      <td>22.20</td>\n",
       "      <td>False</td>\n",
       "    </tr>\n",
       "    <tr>\n",
       "      <th>4</th>\n",
       "      <td>0.255009</td>\n",
       "      <td>0.570217</td>\n",
       "      <td>42737.733765</td>\n",
       "      <td>4.627557e+07</td>\n",
       "      <td>20.09</td>\n",
       "      <td>True</td>\n",
       "    </tr>\n",
       "  </tbody>\n",
       "</table>\n",
       "</div>"
      ],
      "text/plain": [
       "   est_diameter_min  est_diameter_max  relative_velocity  miss_distance  \\\n",
       "0          1.198271          2.679415       13569.249224   5.483974e+07   \n",
       "1          0.265800          0.594347       73588.726663   6.143813e+07   \n",
       "2          0.722030          1.614507      114258.692129   4.979872e+07   \n",
       "3          0.096506          0.215794       24764.303138   2.543497e+07   \n",
       "4          0.255009          0.570217       42737.733765   4.627557e+07   \n",
       "\n",
       "   absolute_magnitude  hazardous  \n",
       "0               16.73      False  \n",
       "1               20.00       True  \n",
       "2               17.83      False  \n",
       "3               22.20      False  \n",
       "4               20.09       True  "
      ]
     },
     "execution_count": 9,
     "metadata": {},
     "output_type": "execute_result"
    }
   ],
   "source": [
    "df.drop(columns=['id','name','orbiting_body','sentry_object'],axis=1,inplace=True)\n",
    "df.head()"
   ]
  },
  {
   "cell_type": "markdown",
   "id": "074a509c",
   "metadata": {
    "papermill": {
     "duration": 0.009092,
     "end_time": "2024-02-01T17:13:07.354981",
     "exception": false,
     "start_time": "2024-02-01T17:13:07.345889",
     "status": "completed"
    },
    "tags": []
   },
   "source": [
    "**EDA**"
   ]
  },
  {
   "cell_type": "code",
   "execution_count": 10,
   "id": "d0d27dba",
   "metadata": {
    "execution": {
     "iopub.execute_input": "2024-02-01T17:13:07.377877Z",
     "iopub.status.busy": "2024-02-01T17:13:07.376746Z",
     "iopub.status.idle": "2024-02-01T17:13:08.685455Z",
     "shell.execute_reply": "2024-02-01T17:13:08.684294Z"
    },
    "papermill": {
     "duration": 1.323463,
     "end_time": "2024-02-01T17:13:08.687942",
     "exception": false,
     "start_time": "2024-02-01T17:13:07.364479",
     "status": "completed"
    },
    "tags": []
   },
   "outputs": [
    {
     "name": "stderr",
     "output_type": "stream",
     "text": [
      "/opt/conda/lib/python3.10/site-packages/seaborn/_oldcore.py:1119: FutureWarning: use_inf_as_na option is deprecated and will be removed in a future version. Convert inf values to NaN before operating instead.\n",
      "  with pd.option_context('mode.use_inf_as_na', True):\n",
      "/opt/conda/lib/python3.10/site-packages/seaborn/_oldcore.py:1119: FutureWarning: use_inf_as_na option is deprecated and will be removed in a future version. Convert inf values to NaN before operating instead.\n",
      "  with pd.option_context('mode.use_inf_as_na', True):\n"
     ]
    },
    {
     "data": {
      "text/plain": [
       "Text(0.5, 1.0, 'Hazardous VS Diamtere')"
      ]
     },
     "execution_count": 10,
     "metadata": {},
     "output_type": "execute_result"
    },
    {
     "data": {
      "image/png": "[encoded data removed]",
      "text/plain": [
       "<Figure size 640x480 with 1 Axes>"
      ]
     },
     "metadata": {},
     "output_type": "display_data"
    }
   ],
   "source": [
    "sns.lineplot(x=df.hazardous,y=df.est_diameter_max)\n",
    "plt.title('Hazardous VS Diamtere')"
   ]
  },
  {
   "cell_type": "code",
   "execution_count": 11,
   "id": "fe684e6c",
   "metadata": {
    "execution": {
     "iopub.execute_input": "2024-02-01T17:13:08.711249Z",
     "iopub.status.busy": "2024-02-01T17:13:08.710588Z",
     "iopub.status.idle": "2024-02-01T17:13:10.198398Z",
     "shell.execute_reply": "2024-02-01T17:13:10.197379Z"
    },
    "papermill": {
     "duration": 1.501971,
     "end_time": "2024-02-01T17:13:10.200632",
     "exception": false,
     "start_time": "2024-02-01T17:13:08.698661",
     "status": "completed"
    },
    "tags": []
   },
   "outputs": [
    {
     "name": "stderr",
     "output_type": "stream",
     "text": [
      "/opt/conda/lib/python3.10/site-packages/seaborn/_oldcore.py:1119: FutureWarning: use_inf_as_na option is deprecated and will be removed in a future version. Convert inf values to NaN before operating instead.\n",
      "  with pd.option_context('mode.use_inf_as_na', True):\n",
      "/opt/conda/lib/python3.10/site-packages/seaborn/_oldcore.py:1119: FutureWarning: use_inf_as_na option is deprecated and will be removed in a future version. Convert inf values to NaN before operating instead.\n",
      "  with pd.option_context('mode.use_inf_as_na', True):\n"
     ]
    },
    {
     "data": {
      "text/plain": [
       "Text(0.5, 1.0, 'Hazardous VS Relative Velocity')"
      ]
     },
     "execution_count": 11,
     "metadata": {},
     "output_type": "execute_result"
    },
    {
     "data": {
      "image/png": "[encoded data removed]",
      "text/plain": [
       "<Figure size 640x480 with 1 Axes>"
      ]
     },
     "metadata": {},
     "output_type": "display_data"
    }
   ],
   "source": [
    "sns.lineplot(x=df.hazardous,y=df.relative_velocity)\n",
    "plt.title('Hazardous VS Relative Velocity')"
   ]
  },
  {
   "cell_type": "code",
   "execution_count": 12,
   "id": "43631cec",
   "metadata": {
    "execution": {
     "iopub.execute_input": "2024-02-01T17:13:10.225451Z",
     "iopub.status.busy": "2024-02-01T17:13:10.224811Z",
     "iopub.status.idle": "2024-02-01T17:13:11.464208Z",
     "shell.execute_reply": "2024-02-01T17:13:11.463085Z"
    },
    "papermill": {
     "duration": 1.254627,
     "end_time": "2024-02-01T17:13:11.466686",
     "exception": false,
     "start_time": "2024-02-01T17:13:10.212059",
     "status": "completed"
    },
    "tags": []
   },
   "outputs": [
    {
     "name": "stderr",
     "output_type": "stream",
     "text": [
      "/opt/conda/lib/python3.10/site-packages/seaborn/_oldcore.py:1119: FutureWarning: use_inf_as_na option is deprecated and will be removed in a future version. Convert inf values to NaN before operating instead.\n",
      "  with pd.option_context('mode.use_inf_as_na', True):\n",
      "/opt/conda/lib/python3.10/site-packages/seaborn/_oldcore.py:1119: FutureWarning: use_inf_as_na option is deprecated and will be removed in a future version. Convert inf values to NaN before operating instead.\n",
      "  with pd.option_context('mode.use_inf_as_na', True):\n"
     ]
    },
    {
     "data": {
      "text/plain": [
       "Text(0.5, 1.0, 'Hazardous VS Absolute Magnitude')"
      ]
     },
     "execution_count": 12,
     "metadata": {},
     "output_type": "execute_result"
    },
    {
     "data": {
      "image/png": "[encoded data removed]",
      "text/plain": [
       "<Figure size 640x480 with 1 Axes>"
      ]
     },
     "metadata": {},
     "output_type": "display_data"
    }
   ],
   "source": [
    "sns.lineplot(x=df.hazardous,y=df.absolute_magnitude)\n",
    "plt.title('Hazardous VS Absolute Magnitude')"
   ]
  },
  {
   "cell_type": "code",
   "execution_count": 13,
   "id": "8001e39f",
   "metadata": {
    "execution": {
     "iopub.execute_input": "2024-02-01T17:13:11.492996Z",
     "iopub.status.busy": "2024-02-01T17:13:11.492579Z",
     "iopub.status.idle": "2024-02-01T17:13:11.660772Z",
     "shell.execute_reply": "2024-02-01T17:13:11.659930Z"
    },
    "papermill": {
     "duration": 0.183447,
     "end_time": "2024-02-01T17:13:11.662789",
     "exception": false,
     "start_time": "2024-02-01T17:13:11.479342",
     "status": "completed"
    },
    "tags": []
   },
   "outputs": [
    {
     "data": {
      "text/plain": [
       "<Axes: xlabel='hazardous'>"
      ]
     },
     "execution_count": 13,
     "metadata": {},
     "output_type": "execute_result"
    },
    {
     "data": {
      "image/png": "[encoded data removed]",
      "text/plain": [
       "<Figure size 640x480 with 1 Axes>"
      ]
     },
     "metadata": {},
     "output_type": "display_data"
    }
   ],
   "source": [
    "hazar_count=df.hazardous.value_counts()\n",
    "sns.barplot(x=hazar_count.index,y=hazar_count.values)"
   ]
  },
  {
   "cell_type": "code",
   "execution_count": 14,
   "id": "286c4662",
   "metadata": {
    "execution": {
     "iopub.execute_input": "2024-02-01T17:13:11.689575Z",
     "iopub.status.busy": "2024-02-01T17:13:11.688835Z",
     "iopub.status.idle": "2024-02-01T17:13:11.702568Z",
     "shell.execute_reply": "2024-02-01T17:13:11.701406Z"
    },
    "papermill": {
     "duration": 0.029731,
     "end_time": "2024-02-01T17:13:11.704920",
     "exception": false,
     "start_time": "2024-02-01T17:13:11.675189",
     "status": "completed"
    },
    "tags": []
   },
   "outputs": [
    {
     "name": "stdout",
     "output_type": "stream",
     "text": [
      "<class 'pandas.core.frame.DataFrame'>\n",
      "RangeIndex: 90836 entries, 0 to 90835\n",
      "Data columns (total 6 columns):\n",
      " #   Column              Non-Null Count  Dtype  \n",
      "---  ------              --------------  -----  \n",
      " 0   est_diameter_min    90836 non-null  float64\n",
      " 1   est_diameter_max    90836 non-null  float64\n",
      " 2   relative_velocity   90836 non-null  float64\n",
      " 3   miss_distance       90836 non-null  float64\n",
      " 4   absolute_magnitude  90836 non-null  float64\n",
      " 5   hazardous           90836 non-null  int64  \n",
      "dtypes: float64(5), int64(1)\n",
      "memory usage: 4.2 MB\n"
     ]
    }
   ],
   "source": [
    "df['hazardous']=df['hazardous'].replace({'False':0,'True':1}).astype(int)\n",
    "df.info()"
   ]
  },
  {
   "cell_type": "code",
   "execution_count": 15,
   "id": "33e61113",
   "metadata": {
    "execution": {
     "iopub.execute_input": "2024-02-01T17:13:11.731956Z",
     "iopub.status.busy": "2024-02-01T17:13:11.731580Z",
     "iopub.status.idle": "2024-02-01T17:13:11.738045Z",
     "shell.execute_reply": "2024-02-01T17:13:11.737046Z"
    },
    "papermill": {
     "duration": 0.022932,
     "end_time": "2024-02-01T17:13:11.740370",
     "exception": false,
     "start_time": "2024-02-01T17:13:11.717438",
     "status": "completed"
    },
    "tags": []
   },
   "outputs": [],
   "source": [
    "X=df.drop(columns='hazardous')\n",
    "y=df.hazardous.values"
   ]
  },
  {
   "cell_type": "code",
   "execution_count": 16,
   "id": "614511a4",
   "metadata": {
    "execution": {
     "iopub.execute_input": "2024-02-01T17:13:11.767462Z",
     "iopub.status.busy": "2024-02-01T17:13:11.767040Z",
     "iopub.status.idle": "2024-02-01T17:13:11.783479Z",
     "shell.execute_reply": "2024-02-01T17:13:11.782296Z"
    },
    "papermill": {
     "duration": 0.03285,
     "end_time": "2024-02-01T17:13:11.785875",
     "exception": false,
     "start_time": "2024-02-01T17:13:11.753025",
     "status": "completed"
    },
    "tags": []
   },
   "outputs": [
    {
     "name": "stdout",
     "output_type": "stream",
     "text": [
      "(72668, 5)\n",
      "(18168, 5)\n",
      "(72668,)\n",
      "(18168,)\n"
     ]
    }
   ],
   "source": [
    "X_train,X_test,y_train,y_test=train_test_split(X,y,test_size=0.2,random_state=42)\n",
    "print(X_train.shape)\n",
    "print(X_test.shape)\n",
    "print(y_train.shape)\n",
    "print(y_test.shape)"
   ]
  },
  {
   "cell_type": "code",
   "execution_count": 17,
   "id": "4aace44e",
   "metadata": {
    "execution": {
     "iopub.execute_input": "2024-02-01T17:13:11.813099Z",
     "iopub.status.busy": "2024-02-01T17:13:11.812474Z",
     "iopub.status.idle": "2024-02-01T17:13:11.817644Z",
     "shell.execute_reply": "2024-02-01T17:13:11.816843Z"
    },
    "papermill": {
     "duration": 0.021283,
     "end_time": "2024-02-01T17:13:11.819711",
     "exception": false,
     "start_time": "2024-02-01T17:13:11.798428",
     "status": "completed"
    },
    "tags": []
   },
   "outputs": [],
   "source": [
    "models={\n",
    "    'DT':DecisionTreeClassifier(),\n",
    "    'RF':RandomForestClassifier(),\n",
    "    'XGB':XGBClassifier(),\n",
    "    'KNeighbors': KNeighborsClassifier(),\n",
    "    'AdaBoost': AdaBoostClassifier()\n",
    "}"
   ]
  },
  {
   "cell_type": "code",
   "execution_count": 18,
   "id": "234f3615",
   "metadata": {
    "execution": {
     "iopub.execute_input": "2024-02-01T17:13:11.846814Z",
     "iopub.status.busy": "2024-02-01T17:13:11.846096Z",
     "iopub.status.idle": "2024-02-01T17:13:29.332028Z",
     "shell.execute_reply": "2024-02-01T17:13:29.330793Z"
    },
    "papermill": {
     "duration": 17.502448,
     "end_time": "2024-02-01T17:13:29.334593",
     "exception": false,
     "start_time": "2024-02-01T17:13:11.832145",
     "status": "completed"
    },
    "tags": []
   },
   "outputs": [
    {
     "name": "stdout",
     "output_type": "stream",
     "text": [
      "the AUC for DT is 0.7078744522355832\n",
      "the AUC for RF is 0.9349399435971484\n",
      "the AUC for XGB is 0.9224299301506584\n",
      "the AUC for KNeighbors is 0.578893063867819\n",
      "the AUC for AdaBoost is 0.9109793040721096\n"
     ]
    }
   ],
   "source": [
    "for name,model in models.items():\n",
    "    model.fit(X_train,y_train)\n",
    "    y_pred=model.predict_proba(X_test)[:, 1]\n",
    "    AUC=roc_auc_score(y_test,y_pred)\n",
    "    print(f'the AUC for {name} is {AUC}')"
   ]
  },
  {
   "cell_type": "code",
   "execution_count": 19,
   "id": "1461ec6b",
   "metadata": {
    "execution": {
     "iopub.execute_input": "2024-02-01T17:13:29.362108Z",
     "iopub.status.busy": "2024-02-01T17:13:29.361691Z",
     "iopub.status.idle": "2024-02-01T17:19:57.856934Z",
     "shell.execute_reply": "2024-02-01T17:19:57.855714Z"
    },
    "papermill": {
     "duration": 388.51214,
     "end_time": "2024-02-01T17:19:57.859750",
     "exception": false,
     "start_time": "2024-02-01T17:13:29.347610",
     "status": "completed"
    },
    "tags": []
   },
   "outputs": [],
   "source": [
    "\n",
    "for model_name, model in models.items():\n",
    "    if model_name == 'DT':\n",
    "        scores_DT=[]\n",
    "        max_depth=[2,5,10,20,30,40,50,100]\n",
    "        for d in max_depth:\n",
    "            DT=DecisionTreeClassifier(max_depth=d)\n",
    "            DT.fit(X_train,y_train)\n",
    "            y_pred=DT.predict_proba(X_test)[:,1]\n",
    "            AUC_DT=roc_auc_score(y_test,y_pred)\n",
    "            scores_DT.append((d,AUC_DT))\n",
    "    \n",
    "    elif model_name == 'RF':\n",
    "        scores_RF=[]\n",
    "        max_depth=[2,5,10,20,30,40,50,100,250,500]\n",
    "        for d in max_depth:\n",
    "            RF=RandomForestClassifier(max_depth=d)\n",
    "            RF.fit(X_train,y_train)\n",
    "            y_pred=RF.predict_proba(X_test)[:,1]\n",
    "            AUC=roc_auc_score(y_test,y_pred)\n",
    "            scores_RF.append((d,AUC))\n",
    "            \n",
    "    elif model_name == 'XGB':\n",
    "        scores_XGB=[]\n",
    "        max_depth=[2,5,10,20,30,40,50,100]\n",
    "        for d in max_depth:\n",
    "            XGB=XGBClassifier(max_depth=d)\n",
    "            XGB.fit(X_train,y_train)\n",
    "            y_pred=XGB.predict_proba(X_test)[:,1]\n",
    "            AUC_XGB=roc_auc_score(y_test,y_pred)\n",
    "            scores_XGB.append((d,AUC_XGB))\n",
    "            \n",
    "    elif model_name == 'KNeighbors':\n",
    "        scores_KN=[]\n",
    "        n_neighbors=[2,5,10,20,30,40,50,100]\n",
    "        for d in n_neighbors:\n",
    "            KN=KNeighborsClassifier(n_neighbors=d)\n",
    "            KN.fit(X_train,y_train)\n",
    "            y_pred=KN.predict_proba(X_test)[:,1]\n",
    "            AUC_KN=roc_auc_score(y_test,y_pred)\n",
    "            scores_KN.append((d,AUC_KN))\n",
    "            \n",
    "    elif model_name == 'AdaBoost':\n",
    "        scores_ADA=[]\n",
    "        n_estimators=[100,500,1000,2000]\n",
    "        for d in n_estimators:\n",
    "            ADA=AdaBoostClassifier(n_estimators=d)\n",
    "            ADA.fit(X_train,y_train)\n",
    "            y_pred=ADA.predict_proba(X_test)[:,1]\n",
    "            AUC_ADA=roc_auc_score(y_test,y_pred)\n",
    "            scores_ADA.append((d,AUC_ADA))\n",
    "            "
   ]
  },
  {
   "cell_type": "code",
   "execution_count": 20,
   "id": "be24713a",
   "metadata": {
    "execution": {
     "iopub.execute_input": "2024-02-01T17:19:57.887697Z",
     "iopub.status.busy": "2024-02-01T17:19:57.887333Z",
     "iopub.status.idle": "2024-02-01T17:19:57.895175Z",
     "shell.execute_reply": "2024-02-01T17:19:57.894312Z"
    },
    "papermill": {
     "duration": 0.024322,
     "end_time": "2024-02-01T17:19:57.897331",
     "exception": false,
     "start_time": "2024-02-01T17:19:57.873009",
     "status": "completed"
    },
    "tags": []
   },
   "outputs": [],
   "source": [
    "df_score_DT=pd.DataFrame(scores_DT,columns=['max_depth','AUC_Decision_Tree'])\n",
    "df_score_RF=pd.DataFrame(scores_RF,columns=['max_depth','AUC_Random_Forest'])\n",
    "df_score_XGB=pd.DataFrame(scores_XGB,columns=['max_depth','AUC_XGB_Classifier'])\n",
    "df_score_KN=pd.DataFrame(scores_KN,columns=['n_neighbors','AUC_KNeighbors'])\n",
    "df_score_ADA=pd.DataFrame(scores_ADA,columns=['n_estimators','AUC_AdaBoost'])"
   ]
  },
  {
   "cell_type": "code",
   "execution_count": 21,
   "id": "4235dff6",
   "metadata": {
    "execution": {
     "iopub.execute_input": "2024-02-01T17:19:57.924434Z",
     "iopub.status.busy": "2024-02-01T17:19:57.924036Z",
     "iopub.status.idle": "2024-02-01T17:19:58.160672Z",
     "shell.execute_reply": "2024-02-01T17:19:58.159661Z"
    },
    "papermill": {
     "duration": 0.252575,
     "end_time": "2024-02-01T17:19:58.162630",
     "exception": false,
     "start_time": "2024-02-01T17:19:57.910055",
     "status": "completed"
    },
    "tags": []
   },
   "outputs": [
    {
     "name": "stderr",
     "output_type": "stream",
     "text": [
      "/opt/conda/lib/python3.10/site-packages/seaborn/_oldcore.py:1119: FutureWarning: use_inf_as_na option is deprecated and will be removed in a future version. Convert inf values to NaN before operating instead.\n",
      "  with pd.option_context('mode.use_inf_as_na', True):\n",
      "/opt/conda/lib/python3.10/site-packages/seaborn/_oldcore.py:1119: FutureWarning: use_inf_as_na option is deprecated and will be removed in a future version. Convert inf values to NaN before operating instead.\n",
      "  with pd.option_context('mode.use_inf_as_na', True):\n"
     ]
    },
    {
     "data": {
      "text/plain": [
       "<Axes: xlabel='max_depth', ylabel='AUC_Decision_Tree'>"
      ]
     },
     "execution_count": 21,
     "metadata": {},
     "output_type": "execute_result"
    },
    {
     "data": {
      "image/png": "[encoded data removed]",
      "text/plain": [
       "<Figure size 640x480 with 1 Axes>"
      ]
     },
     "metadata": {},
     "output_type": "display_data"
    }
   ],
   "source": [
    "sns.lineplot(x=df_score_DT.max_depth,y=df_score_DT.AUC_Decision_Tree)\n"
   ]
  },
  {
   "cell_type": "code",
   "execution_count": 22,
   "id": "8568ce14",
   "metadata": {
    "execution": {
     "iopub.execute_input": "2024-02-01T17:19:58.191146Z",
     "iopub.status.busy": "2024-02-01T17:19:58.190359Z",
     "iopub.status.idle": "2024-02-01T17:19:58.410423Z",
     "shell.execute_reply": "2024-02-01T17:19:58.409259Z"
    },
    "papermill": {
     "duration": 0.236678,
     "end_time": "2024-02-01T17:19:58.412559",
     "exception": false,
     "start_time": "2024-02-01T17:19:58.175881",
     "status": "completed"
    },
    "tags": []
   },
   "outputs": [
    {
     "name": "stderr",
     "output_type": "stream",
     "text": [
      "/opt/conda/lib/python3.10/site-packages/seaborn/_oldcore.py:1119: FutureWarning: use_inf_as_na option is deprecated and will be removed in a future version. Convert inf values to NaN before operating instead.\n",
      "  with pd.option_context('mode.use_inf_as_na', True):\n",
      "/opt/conda/lib/python3.10/site-packages/seaborn/_oldcore.py:1119: FutureWarning: use_inf_as_na option is deprecated and will be removed in a future version. Convert inf values to NaN before operating instead.\n",
      "  with pd.option_context('mode.use_inf_as_na', True):\n"
     ]
    },
    {
     "data": {
      "text/plain": [
       "<Axes: xlabel='max_depth', ylabel='AUC_Random_Forest'>"
      ]
     },
     "execution_count": 22,
     "metadata": {},
     "output_type": "execute_result"
    },
    {
     "data": {
      "image/png": "[encoded data removed]",
      "text/plain": [
       "<Figure size 640x480 with 1 Axes>"
      ]
     },
     "metadata": {},
     "output_type": "display_data"
    }
   ],
   "source": [
    "sns.lineplot(x=df_score_RF.max_depth,y=df_score_RF.AUC_Random_Forest)\n"
   ]
  },
  {
   "cell_type": "code",
   "execution_count": 23,
   "id": "8db9aa1a",
   "metadata": {
    "execution": {
     "iopub.execute_input": "2024-02-01T17:19:58.443594Z",
     "iopub.status.busy": "2024-02-01T17:19:58.442515Z",
     "iopub.status.idle": "2024-02-01T17:19:58.662514Z",
     "shell.execute_reply": "2024-02-01T17:19:58.661642Z"
    },
    "papermill": {
     "duration": 0.237643,
     "end_time": "2024-02-01T17:19:58.664615",
     "exception": false,
     "start_time": "2024-02-01T17:19:58.426972",
     "status": "completed"
    },
    "tags": []
   },
   "outputs": [
    {
     "name": "stderr",
     "output_type": "stream",
     "text": [
      "/opt/conda/lib/python3.10/site-packages/seaborn/_oldcore.py:1119: FutureWarning: use_inf_as_na option is deprecated and will be removed in a future version. Convert inf values to NaN before operating instead.\n",
      "  with pd.option_context('mode.use_inf_as_na', True):\n",
      "/opt/conda/lib/python3.10/site-packages/seaborn/_oldcore.py:1119: FutureWarning: use_inf_as_na option is deprecated and will be removed in a future version. Convert inf values to NaN before operating instead.\n",
      "  with pd.option_context('mode.use_inf_as_na', True):\n"
     ]
    },
    {
     "data": {
      "text/plain": [
       "<Axes: xlabel='max_depth', ylabel='AUC_XGB_Classifier'>"
      ]
     },
     "execution_count": 23,
     "metadata": {},
     "output_type": "execute_result"
    },
    {
     "data": {
      "image/png": "[encoded data removed]",
      "text/plain": [
       "<Figure size 640x480 with 1 Axes>"
      ]
     },
     "metadata": {},
     "output_type": "display_data"
    }
   ],
   "source": [
    "sns.lineplot(x=df_score_XGB.max_depth,y=df_score_XGB.AUC_XGB_Classifier)\n"
   ]
  },
  {
   "cell_type": "code",
   "execution_count": 24,
   "id": "f76031ae",
   "metadata": {
    "execution": {
     "iopub.execute_input": "2024-02-01T17:19:58.695834Z",
     "iopub.status.busy": "2024-02-01T17:19:58.695216Z",
     "iopub.status.idle": "2024-02-01T17:19:58.890698Z",
     "shell.execute_reply": "2024-02-01T17:19:58.889606Z"
    },
    "papermill": {
     "duration": 0.213613,
     "end_time": "2024-02-01T17:19:58.892985",
     "exception": false,
     "start_time": "2024-02-01T17:19:58.679372",
     "status": "completed"
    },
    "tags": []
   },
   "outputs": [
    {
     "name": "stderr",
     "output_type": "stream",
     "text": [
      "/opt/conda/lib/python3.10/site-packages/seaborn/_oldcore.py:1119: FutureWarning: use_inf_as_na option is deprecated and will be removed in a future version. Convert inf values to NaN before operating instead.\n",
      "  with pd.option_context('mode.use_inf_as_na', True):\n",
      "/opt/conda/lib/python3.10/site-packages/seaborn/_oldcore.py:1119: FutureWarning: use_inf_as_na option is deprecated and will be removed in a future version. Convert inf values to NaN before operating instead.\n",
      "  with pd.option_context('mode.use_inf_as_na', True):\n"
     ]
    },
    {
     "data": {
      "text/plain": [
       "<Axes: xlabel='n_neighbors', ylabel='AUC_KNeighbors'>"
      ]
     },
     "execution_count": 24,
     "metadata": {},
     "output_type": "execute_result"
    },
    {
     "data": {
      "image/png": "[encoded data removed]",
      "text/plain": [
       "<Figure size 640x480 with 1 Axes>"
      ]
     },
     "metadata": {},
     "output_type": "display_data"
    }
   ],
   "source": [
    "sns.lineplot(x=df_score_KN.n_neighbors,y=df_score_KN.AUC_KNeighbors)\n"
   ]
  },
  {
   "cell_type": "code",
   "execution_count": 25,
   "id": "3ea84438",
   "metadata": {
    "execution": {
     "iopub.execute_input": "2024-02-01T17:19:58.926016Z",
     "iopub.status.busy": "2024-02-01T17:19:58.925628Z",
     "iopub.status.idle": "2024-02-01T17:19:59.146002Z",
     "shell.execute_reply": "2024-02-01T17:19:59.144638Z"
    },
    "papermill": {
     "duration": 0.239294,
     "end_time": "2024-02-01T17:19:59.148475",
     "exception": false,
     "start_time": "2024-02-01T17:19:58.909181",
     "status": "completed"
    },
    "tags": []
   },
   "outputs": [
    {
     "name": "stderr",
     "output_type": "stream",
     "text": [
      "/opt/conda/lib/python3.10/site-packages/seaborn/_oldcore.py:1119: FutureWarning: use_inf_as_na option is deprecated and will be removed in a future version. Convert inf values to NaN before operating instead.\n",
      "  with pd.option_context('mode.use_inf_as_na', True):\n",
      "/opt/conda/lib/python3.10/site-packages/seaborn/_oldcore.py:1119: FutureWarning: use_inf_as_na option is deprecated and will be removed in a future version. Convert inf values to NaN before operating instead.\n",
      "  with pd.option_context('mode.use_inf_as_na', True):\n"
     ]
    },
    {
     "data": {
      "text/plain": [
       "<Axes: xlabel='n_estimators', ylabel='AUC_AdaBoost'>"
      ]
     },
     "execution_count": 25,
     "metadata": {},
     "output_type": "execute_result"
    },
    {
     "data": {
      "image/png": "[encoded data removed]",
      "text/plain": [
       "<Figure size 640x480 with 1 Axes>"
      ]
     },
     "metadata": {},
     "output_type": "display_data"
    }
   ],
   "source": [
    "sns.lineplot(x=df_score_ADA.n_estimators,y=df_score_ADA.AUC_AdaBoost)"
   ]
  },
  {
   "cell_type": "code",
   "execution_count": 26,
   "id": "9a6354ff",
   "metadata": {
    "execution": {
     "iopub.execute_input": "2024-02-01T17:19:59.182666Z",
     "iopub.status.busy": "2024-02-01T17:19:59.181860Z",
     "iopub.status.idle": "2024-02-01T17:19:59.191898Z",
     "shell.execute_reply": "2024-02-01T17:19:59.190816Z"
    },
    "papermill": {
     "duration": 0.029348,
     "end_time": "2024-02-01T17:19:59.194032",
     "exception": false,
     "start_time": "2024-02-01T17:19:59.164684",
     "status": "completed"
    },
    "tags": []
   },
   "outputs": [
    {
     "data": {
      "text/html": [
       "<div>\n",
       "<style scoped>\n",
       "    .dataframe tbody tr th:only-of-type {\n",
       "        vertical-align: middle;\n",
       "    }\n",
       "\n",
       "    .dataframe tbody tr th {\n",
       "        vertical-align: top;\n",
       "    }\n",
       "\n",
       "    .dataframe thead th {\n",
       "        text-align: right;\n",
       "    }\n",
       "</style>\n",
       "<table border=\"1\" class=\"dataframe\">\n",
       "  <thead>\n",
       "    <tr style=\"text-align: right;\">\n",
       "      <th></th>\n",
       "      <th>max_depth</th>\n",
       "      <th>AUC_Decision_Tree</th>\n",
       "    </tr>\n",
       "  </thead>\n",
       "  <tbody>\n",
       "    <tr>\n",
       "      <th>0</th>\n",
       "      <td>2</td>\n",
       "      <td>0.885622</td>\n",
       "    </tr>\n",
       "    <tr>\n",
       "      <th>1</th>\n",
       "      <td>5</td>\n",
       "      <td>0.906489</td>\n",
       "    </tr>\n",
       "    <tr>\n",
       "      <th>2</th>\n",
       "      <td>10</td>\n",
       "      <td>0.904200</td>\n",
       "    </tr>\n",
       "    <tr>\n",
       "      <th>3</th>\n",
       "      <td>20</td>\n",
       "      <td>0.834696</td>\n",
       "    </tr>\n",
       "    <tr>\n",
       "      <th>4</th>\n",
       "      <td>30</td>\n",
       "      <td>0.743302</td>\n",
       "    </tr>\n",
       "    <tr>\n",
       "      <th>5</th>\n",
       "      <td>40</td>\n",
       "      <td>0.712600</td>\n",
       "    </tr>\n",
       "    <tr>\n",
       "      <th>6</th>\n",
       "      <td>50</td>\n",
       "      <td>0.707189</td>\n",
       "    </tr>\n",
       "    <tr>\n",
       "      <th>7</th>\n",
       "      <td>100</td>\n",
       "      <td>0.703825</td>\n",
       "    </tr>\n",
       "  </tbody>\n",
       "</table>\n",
       "</div>"
      ],
      "text/plain": [
       "   max_depth  AUC_Decision_Tree\n",
       "0          2           0.885622\n",
       "1          5           0.906489\n",
       "2         10           0.904200\n",
       "3         20           0.834696\n",
       "4         30           0.743302\n",
       "5         40           0.712600\n",
       "6         50           0.707189\n",
       "7        100           0.703825"
      ]
     },
     "execution_count": 26,
     "metadata": {},
     "output_type": "execute_result"
    }
   ],
   "source": [
    "df_score_DT"
   ]
  },
  {
   "cell_type": "code",
   "execution_count": 27,
   "id": "ad748928",
   "metadata": {
    "execution": {
     "iopub.execute_input": "2024-02-01T17:19:59.227948Z",
     "iopub.status.busy": "2024-02-01T17:19:59.227557Z",
     "iopub.status.idle": "2024-02-01T17:19:59.237353Z",
     "shell.execute_reply": "2024-02-01T17:19:59.236343Z"
    },
    "papermill": {
     "duration": 0.02947,
     "end_time": "2024-02-01T17:19:59.239537",
     "exception": false,
     "start_time": "2024-02-01T17:19:59.210067",
     "status": "completed"
    },
    "tags": []
   },
   "outputs": [
    {
     "data": {
      "text/html": [
       "<div>\n",
       "<style scoped>\n",
       "    .dataframe tbody tr th:only-of-type {\n",
       "        vertical-align: middle;\n",
       "    }\n",
       "\n",
       "    .dataframe tbody tr th {\n",
       "        vertical-align: top;\n",
       "    }\n",
       "\n",
       "    .dataframe thead th {\n",
       "        text-align: right;\n",
       "    }\n",
       "</style>\n",
       "<table border=\"1\" class=\"dataframe\">\n",
       "  <thead>\n",
       "    <tr style=\"text-align: right;\">\n",
       "      <th></th>\n",
       "      <th>max_depth</th>\n",
       "      <th>AUC_Random_Forest</th>\n",
       "    </tr>\n",
       "  </thead>\n",
       "  <tbody>\n",
       "    <tr>\n",
       "      <th>0</th>\n",
       "      <td>2</td>\n",
       "      <td>0.906288</td>\n",
       "    </tr>\n",
       "    <tr>\n",
       "      <th>1</th>\n",
       "      <td>5</td>\n",
       "      <td>0.912424</td>\n",
       "    </tr>\n",
       "    <tr>\n",
       "      <th>2</th>\n",
       "      <td>10</td>\n",
       "      <td>0.922782</td>\n",
       "    </tr>\n",
       "    <tr>\n",
       "      <th>3</th>\n",
       "      <td>20</td>\n",
       "      <td>0.935070</td>\n",
       "    </tr>\n",
       "    <tr>\n",
       "      <th>4</th>\n",
       "      <td>30</td>\n",
       "      <td>0.935175</td>\n",
       "    </tr>\n",
       "    <tr>\n",
       "      <th>5</th>\n",
       "      <td>40</td>\n",
       "      <td>0.934694</td>\n",
       "    </tr>\n",
       "    <tr>\n",
       "      <th>6</th>\n",
       "      <td>50</td>\n",
       "      <td>0.934935</td>\n",
       "    </tr>\n",
       "    <tr>\n",
       "      <th>7</th>\n",
       "      <td>100</td>\n",
       "      <td>0.934485</td>\n",
       "    </tr>\n",
       "    <tr>\n",
       "      <th>8</th>\n",
       "      <td>250</td>\n",
       "      <td>0.935339</td>\n",
       "    </tr>\n",
       "    <tr>\n",
       "      <th>9</th>\n",
       "      <td>500</td>\n",
       "      <td>0.934865</td>\n",
       "    </tr>\n",
       "  </tbody>\n",
       "</table>\n",
       "</div>"
      ],
      "text/plain": [
       "   max_depth  AUC_Random_Forest\n",
       "0          2           0.906288\n",
       "1          5           0.912424\n",
       "2         10           0.922782\n",
       "3         20           0.935070\n",
       "4         30           0.935175\n",
       "5         40           0.934694\n",
       "6         50           0.934935\n",
       "7        100           0.934485\n",
       "8        250           0.935339\n",
       "9        500           0.934865"
      ]
     },
     "execution_count": 27,
     "metadata": {},
     "output_type": "execute_result"
    }
   ],
   "source": [
    "df_score_RF"
   ]
  },
  {
   "cell_type": "code",
   "execution_count": 28,
   "id": "ef55c6fe",
   "metadata": {
    "execution": {
     "iopub.execute_input": "2024-02-01T17:19:59.274529Z",
     "iopub.status.busy": "2024-02-01T17:19:59.274142Z",
     "iopub.status.idle": "2024-02-01T17:19:59.283978Z",
     "shell.execute_reply": "2024-02-01T17:19:59.282752Z"
    },
    "papermill": {
     "duration": 0.029604,
     "end_time": "2024-02-01T17:19:59.285928",
     "exception": false,
     "start_time": "2024-02-01T17:19:59.256324",
     "status": "completed"
    },
    "tags": []
   },
   "outputs": [
    {
     "data": {
      "text/html": [
       "<div>\n",
       "<style scoped>\n",
       "    .dataframe tbody tr th:only-of-type {\n",
       "        vertical-align: middle;\n",
       "    }\n",
       "\n",
       "    .dataframe tbody tr th {\n",
       "        vertical-align: top;\n",
       "    }\n",
       "\n",
       "    .dataframe thead th {\n",
       "        text-align: right;\n",
       "    }\n",
       "</style>\n",
       "<table border=\"1\" class=\"dataframe\">\n",
       "  <thead>\n",
       "    <tr style=\"text-align: right;\">\n",
       "      <th></th>\n",
       "      <th>max_depth</th>\n",
       "      <th>AUC_XGB_Classifier</th>\n",
       "    </tr>\n",
       "  </thead>\n",
       "  <tbody>\n",
       "    <tr>\n",
       "      <th>0</th>\n",
       "      <td>2</td>\n",
       "      <td>0.918900</td>\n",
       "    </tr>\n",
       "    <tr>\n",
       "      <th>1</th>\n",
       "      <td>5</td>\n",
       "      <td>0.923996</td>\n",
       "    </tr>\n",
       "    <tr>\n",
       "      <th>2</th>\n",
       "      <td>10</td>\n",
       "      <td>0.923054</td>\n",
       "    </tr>\n",
       "    <tr>\n",
       "      <th>3</th>\n",
       "      <td>20</td>\n",
       "      <td>0.921752</td>\n",
       "    </tr>\n",
       "    <tr>\n",
       "      <th>4</th>\n",
       "      <td>30</td>\n",
       "      <td>0.921872</td>\n",
       "    </tr>\n",
       "    <tr>\n",
       "      <th>5</th>\n",
       "      <td>40</td>\n",
       "      <td>0.921209</td>\n",
       "    </tr>\n",
       "    <tr>\n",
       "      <th>6</th>\n",
       "      <td>50</td>\n",
       "      <td>0.920392</td>\n",
       "    </tr>\n",
       "    <tr>\n",
       "      <th>7</th>\n",
       "      <td>100</td>\n",
       "      <td>0.919847</td>\n",
       "    </tr>\n",
       "  </tbody>\n",
       "</table>\n",
       "</div>"
      ],
      "text/plain": [
       "   max_depth  AUC_XGB_Classifier\n",
       "0          2            0.918900\n",
       "1          5            0.923996\n",
       "2         10            0.923054\n",
       "3         20            0.921752\n",
       "4         30            0.921872\n",
       "5         40            0.921209\n",
       "6         50            0.920392\n",
       "7        100            0.919847"
      ]
     },
     "execution_count": 28,
     "metadata": {},
     "output_type": "execute_result"
    }
   ],
   "source": [
    "df_score_XGB"
   ]
  },
  {
   "cell_type": "code",
   "execution_count": 29,
   "id": "e6041d2b",
   "metadata": {
    "execution": {
     "iopub.execute_input": "2024-02-01T17:19:59.382513Z",
     "iopub.status.busy": "2024-02-01T17:19:59.381890Z",
     "iopub.status.idle": "2024-02-01T17:19:59.390940Z",
     "shell.execute_reply": "2024-02-01T17:19:59.389831Z"
    },
    "papermill": {
     "duration": 0.090609,
     "end_time": "2024-02-01T17:19:59.392940",
     "exception": false,
     "start_time": "2024-02-01T17:19:59.302331",
     "status": "completed"
    },
    "tags": []
   },
   "outputs": [
    {
     "data": {
      "text/html": [
       "<div>\n",
       "<style scoped>\n",
       "    .dataframe tbody tr th:only-of-type {\n",
       "        vertical-align: middle;\n",
       "    }\n",
       "\n",
       "    .dataframe tbody tr th {\n",
       "        vertical-align: top;\n",
       "    }\n",
       "\n",
       "    .dataframe thead th {\n",
       "        text-align: right;\n",
       "    }\n",
       "</style>\n",
       "<table border=\"1\" class=\"dataframe\">\n",
       "  <thead>\n",
       "    <tr style=\"text-align: right;\">\n",
       "      <th></th>\n",
       "      <th>n_neighbors</th>\n",
       "      <th>AUC_KNeighbors</th>\n",
       "    </tr>\n",
       "  </thead>\n",
       "  <tbody>\n",
       "    <tr>\n",
       "      <th>0</th>\n",
       "      <td>2</td>\n",
       "      <td>0.548780</td>\n",
       "    </tr>\n",
       "    <tr>\n",
       "      <th>1</th>\n",
       "      <td>5</td>\n",
       "      <td>0.578893</td>\n",
       "    </tr>\n",
       "    <tr>\n",
       "      <th>2</th>\n",
       "      <td>10</td>\n",
       "      <td>0.605801</td>\n",
       "    </tr>\n",
       "    <tr>\n",
       "      <th>3</th>\n",
       "      <td>20</td>\n",
       "      <td>0.619919</td>\n",
       "    </tr>\n",
       "    <tr>\n",
       "      <th>4</th>\n",
       "      <td>30</td>\n",
       "      <td>0.629376</td>\n",
       "    </tr>\n",
       "    <tr>\n",
       "      <th>5</th>\n",
       "      <td>40</td>\n",
       "      <td>0.632104</td>\n",
       "    </tr>\n",
       "    <tr>\n",
       "      <th>6</th>\n",
       "      <td>50</td>\n",
       "      <td>0.628037</td>\n",
       "    </tr>\n",
       "    <tr>\n",
       "      <th>7</th>\n",
       "      <td>100</td>\n",
       "      <td>0.605240</td>\n",
       "    </tr>\n",
       "  </tbody>\n",
       "</table>\n",
       "</div>"
      ],
      "text/plain": [
       "   n_neighbors  AUC_KNeighbors\n",
       "0            2        0.548780\n",
       "1            5        0.578893\n",
       "2           10        0.605801\n",
       "3           20        0.619919\n",
       "4           30        0.629376\n",
       "5           40        0.632104\n",
       "6           50        0.628037\n",
       "7          100        0.605240"
      ]
     },
     "execution_count": 29,
     "metadata": {},
     "output_type": "execute_result"
    }
   ],
   "source": [
    "df_score_KN"
   ]
  },
  {
   "cell_type": "code",
   "execution_count": 30,
   "id": "caf55885",
   "metadata": {
    "execution": {
     "iopub.execute_input": "2024-02-01T17:19:59.428481Z",
     "iopub.status.busy": "2024-02-01T17:19:59.427542Z",
     "iopub.status.idle": "2024-02-01T17:19:59.436599Z",
     "shell.execute_reply": "2024-02-01T17:19:59.435418Z"
    },
    "papermill": {
     "duration": 0.029058,
     "end_time": "2024-02-01T17:19:59.438630",
     "exception": false,
     "start_time": "2024-02-01T17:19:59.409572",
     "status": "completed"
    },
    "tags": []
   },
   "outputs": [
    {
     "data": {
      "text/html": [
       "<div>\n",
       "<style scoped>\n",
       "    .dataframe tbody tr th:only-of-type {\n",
       "        vertical-align: middle;\n",
       "    }\n",
       "\n",
       "    .dataframe tbody tr th {\n",
       "        vertical-align: top;\n",
       "    }\n",
       "\n",
       "    .dataframe thead th {\n",
       "        text-align: right;\n",
       "    }\n",
       "</style>\n",
       "<table border=\"1\" class=\"dataframe\">\n",
       "  <thead>\n",
       "    <tr style=\"text-align: right;\">\n",
       "      <th></th>\n",
       "      <th>n_estimators</th>\n",
       "      <th>AUC_AdaBoost</th>\n",
       "    </tr>\n",
       "  </thead>\n",
       "  <tbody>\n",
       "    <tr>\n",
       "      <th>0</th>\n",
       "      <td>100</td>\n",
       "      <td>0.911266</td>\n",
       "    </tr>\n",
       "    <tr>\n",
       "      <th>1</th>\n",
       "      <td>500</td>\n",
       "      <td>0.917422</td>\n",
       "    </tr>\n",
       "    <tr>\n",
       "      <th>2</th>\n",
       "      <td>1000</td>\n",
       "      <td>0.919335</td>\n",
       "    </tr>\n",
       "    <tr>\n",
       "      <th>3</th>\n",
       "      <td>2000</td>\n",
       "      <td>0.921190</td>\n",
       "    </tr>\n",
       "  </tbody>\n",
       "</table>\n",
       "</div>"
      ],
      "text/plain": [
       "   n_estimators  AUC_AdaBoost\n",
       "0           100      0.911266\n",
       "1           500      0.917422\n",
       "2          1000      0.919335\n",
       "3          2000      0.921190"
      ]
     },
     "execution_count": 30,
     "metadata": {},
     "output_type": "execute_result"
    }
   ],
   "source": [
    "df_score_ADA"
   ]
  },
  {
   "cell_type": "code",
   "execution_count": 31,
   "id": "54809eea",
   "metadata": {
    "execution": {
     "iopub.execute_input": "2024-02-01T17:19:59.473417Z",
     "iopub.status.busy": "2024-02-01T17:19:59.473006Z",
     "iopub.status.idle": "2024-02-01T17:20:11.717292Z",
     "shell.execute_reply": "2024-02-01T17:20:11.716039Z"
    },
    "papermill": {
     "duration": 12.264662,
     "end_time": "2024-02-01T17:20:11.719952",
     "exception": false,
     "start_time": "2024-02-01T17:19:59.455290",
     "status": "completed"
    },
    "tags": []
   },
   "outputs": [
    {
     "name": "stdout",
     "output_type": "stream",
     "text": [
      "0.9353114029253248\n"
     ]
    }
   ],
   "source": [
    "RF=RandomForestClassifier(max_depth=40)\n",
    "RF.fit(X_train,y_train)\n",
    "y_pred_final=RF.predict_proba(X_test)[:,1]\n",
    "AUC_final=roc_auc_score(y_test,y_pred_final)\n",
    "print(AUC_final)"
   ]
  },
  {
   "cell_type": "code",
   "execution_count": 32,
   "id": "5ae4a9d4",
   "metadata": {
    "execution": {
     "iopub.execute_input": "2024-02-01T17:20:11.757336Z",
     "iopub.status.busy": "2024-02-01T17:20:11.756101Z",
     "iopub.status.idle": "2024-02-01T17:20:11.763790Z",
     "shell.execute_reply": "2024-02-01T17:20:11.762905Z"
    },
    "papermill": {
     "duration": 0.028188,
     "end_time": "2024-02-01T17:20:11.765906",
     "exception": false,
     "start_time": "2024-02-01T17:20:11.737718",
     "status": "completed"
    },
    "tags": []
   },
   "outputs": [],
   "source": [
    "FBR,TPR,threshould=roc_curve(y_test,y_pred_final)"
   ]
  },
  {
   "cell_type": "code",
   "execution_count": 33,
   "id": "a6c02733",
   "metadata": {
    "execution": {
     "iopub.execute_input": "2024-02-01T17:20:11.802426Z",
     "iopub.status.busy": "2024-02-01T17:20:11.801655Z",
     "iopub.status.idle": "2024-02-01T17:20:12.016597Z",
     "shell.execute_reply": "2024-02-01T17:20:12.015830Z"
    },
    "papermill": {
     "duration": 0.235648,
     "end_time": "2024-02-01T17:20:12.018629",
     "exception": false,
     "start_time": "2024-02-01T17:20:11.782981",
     "status": "completed"
    },
    "tags": []
   },
   "outputs": [
    {
     "data": {
      "image/png": "[encoded data removed]",
      "text/plain": [
       "<Figure size 640x480 with 1 Axes>"
      ]
     },
     "metadata": {},
     "output_type": "display_data"
    }
   ],
   "source": [
    "plt.plot(FBR, TPR, label='ROC curve (AUC = {:.2f})'.format(AUC_final))\n",
    "plt.plot([0, 1], [0, 1], 'k--')  # Diagonal line representing random prediction\n",
    "plt.xlabel('False Positive Rate (FPR)')\n",
    "plt.ylabel('True Positive Rate (TPR)')\n",
    "plt.title('Receiver Operating Characteristic (ROC) Curve')\n",
    "plt.legend(loc='lower right')\n",
    "plt.show()"
   ]
  },
  {
   "cell_type": "code",
   "execution_count": 34,
   "id": "e5ae40f9",
   "metadata": {
    "execution": {
     "iopub.execute_input": "2024-02-01T17:20:12.058749Z",
     "iopub.status.busy": "2024-02-01T17:20:12.058367Z",
     "iopub.status.idle": "2024-02-01T17:21:59.901308Z",
     "shell.execute_reply": "2024-02-01T17:21:59.900110Z"
    },
    "papermill": {
     "duration": 107.867099,
     "end_time": "2024-02-01T17:21:59.904049",
     "exception": false,
     "start_time": "2024-02-01T17:20:12.036950",
     "status": "completed"
    },
    "tags": []
   },
   "outputs": [],
   "source": [
    "valid_scores=cross_val_score(RF,X,y,cv=8,scoring='roc_auc')"
   ]
  },
  {
   "cell_type": "code",
   "execution_count": 35,
   "id": "6c0fefed",
   "metadata": {
    "execution": {
     "iopub.execute_input": "2024-02-01T17:21:59.943117Z",
     "iopub.status.busy": "2024-02-01T17:21:59.941962Z",
     "iopub.status.idle": "2024-02-01T17:21:59.948530Z",
     "shell.execute_reply": "2024-02-01T17:21:59.947421Z"
    },
    "papermill": {
     "duration": 0.028151,
     "end_time": "2024-02-01T17:21:59.950489",
     "exception": false,
     "start_time": "2024-02-01T17:21:59.922338",
     "status": "completed"
    },
    "tags": []
   },
   "outputs": [
    {
     "name": "stdout",
     "output_type": "stream",
     "text": [
      "valid_scores for cv 1 is 0.9149379097229887\n",
      "valid_scores for cv 2 is 0.922649244012802\n",
      "valid_scores for cv 3 is 0.9261257256373469\n",
      "valid_scores for cv 4 is 0.9320304602141045\n",
      "valid_scores for cv 5 is 0.9397462902240987\n",
      "valid_scores for cv 6 is 0.9355643128631025\n",
      "valid_scores for cv 7 is 0.9373842895609725\n",
      "valid_scores for cv 8 is 0.952818838081102\n"
     ]
    }
   ],
   "source": [
    "for i in range(8):\n",
    "     print(f'valid_scores for cv {i+1} is {valid_scores[i]}')"
   ]
  },
  {
   "cell_type": "code",
   "execution_count": 36,
   "id": "6e54331e",
   "metadata": {
    "execution": {
     "iopub.execute_input": "2024-02-01T17:21:59.988875Z",
     "iopub.status.busy": "2024-02-01T17:21:59.988223Z",
     "iopub.status.idle": "2024-02-01T17:21:59.994149Z",
     "shell.execute_reply": "2024-02-01T17:21:59.993008Z"
    },
    "papermill": {
     "duration": 0.028065,
     "end_time": "2024-02-01T17:21:59.996188",
     "exception": false,
     "start_time": "2024-02-01T17:21:59.968123",
     "status": "completed"
    },
    "tags": []
   },
   "outputs": [
    {
     "name": "stdout",
     "output_type": "stream",
     "text": [
      "the average validation score for predicting Hazardous objects around the globe is 0.9326571337895647\n"
     ]
    }
   ],
   "source": [
    "print(f'the average validation score for predicting Hazardous objects around the globe is {valid_scores.mean()}')"
   ]
  },
  {
   "cell_type": "code",
   "execution_count": null,
   "id": "31e3aa87",
   "metadata": {
    "papermill": {
     "duration": 0.018022,
     "end_time": "2024-02-01T17:22:00.032532",
     "exception": false,
     "start_time": "2024-02-01T17:22:00.014510",
     "status": "completed"
    },
    "tags": []
   },
   "outputs": [],
   "source": []
  }
 ],
 "metadata": {
  "kaggle": {
   "accelerator": "none",
   "dataSources": [
    {
     "datasetId": 2272878,
     "sourceId": 3816674,
     "sourceType": "datasetVersion"
    }
   ],
   "dockerImageVersionId": 30646,
   "isGpuEnabled": false,
   "isInternetEnabled": true,
   "language": "python",
   "sourceType": "notebook"
  },
  "kernelspec": {
   "display_name": "Python 3",
   "language": "python",
   "name": "python3"
  },
  "language_info": {
   "codemirror_mode": {
    "name": "ipython",
    "version": 3
   },
   "file_extension": ".py",
   "mimetype": "text/x-python",
   "name": "python",
   "nbconvert_exporter": "python",
   "pygments_lexer": "ipython3",
   "version": "3.10.13"
  },
  "papermill": {
   "default_parameters": {},
   "duration": 540.482287,
   "end_time": "2024-02-01T17:22:00.773209",
   "environment_variables": {},
   "exception": null,
   "input_path": "__notebook__.ipynb",
   "output_path": "__notebook__.ipynb",
   "parameters": {},
   "start_time": "2024-02-01T17:13:00.290922",
   "version": "2.5.0"
  }
 },
 "nbformat": 4,
 "nbformat_minor": 5
}
