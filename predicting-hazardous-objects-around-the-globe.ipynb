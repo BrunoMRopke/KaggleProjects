{
 "cells": [
  {
   "cell_type": "code",
   "execution_count": 1,
   "id": "53ae81b5",
   "metadata": {
    "_cell_guid": "b1076dfc-b9ad-4769-8c92-a6c4dae69d19",
    "_uuid": "8f2839f25d086af736a60e9eeb907d3b93b6e0e5",
    "execution": {
     "iopub.execute_input": "2024-02-01T16:58:43.653746Z",
     "iopub.status.busy": "2024-02-01T16:58:43.653335Z",
     "iopub.status.idle": "2024-02-01T16:58:44.766299Z",
     "shell.execute_reply": "2024-02-01T16:58:44.765375Z"
    },
    "papermill": {
     "duration": 1.130617,
     "end_time": "2024-02-01T16:58:44.769191",
     "exception": false,
     "start_time": "2024-02-01T16:58:43.638574",
     "status": "completed"
    },
    "tags": []
   },
   "outputs": [
    {
     "name": "stdout",
     "output_type": "stream",
     "text": [
      "/kaggle/input/nasa-nearest-earth-objects/neo_v2.csv\n",
      "/kaggle/input/nasa-nearest-earth-objects/neo.csv\n"
     ]
    }
   ],
   "source": [
    "# This Python 3 environment comes with many helpful analytics libraries installed\n",
    "# It is defined by the kaggle/python Docker image: https://github.com/kaggle/docker-python\n",
    "# For example, here's several helpful packages to load\n",
    "\n",
    "import numpy as np # linear algebra\n",
    "import pandas as pd # data processing, CSV file I/O (e.g. pd.read_csv)\n",
    "\n",
    "# Input data files are available in the read-only \"../input/\" directory\n",
    "# For example, running this (by clicking run or pressing Shift+Enter) will list all files under the input directory\n",
    "\n",
    "import os\n",
    "for dirname, _, filenames in os.walk('/kaggle/input'):\n",
    "    for filename in filenames:\n",
    "        print(os.path.join(dirname, filename))\n",
    "\n",
    "# You can write up to 20GB to the current directory (/kaggle/working/) that gets preserved as output when you create a version using \"Save & Run All\" \n",
    "# You can also write temporary files to /kaggle/temp/, but they won't be saved outside of the current session"
   ]
  },
  {
   "cell_type": "code",
   "execution_count": 2,
   "id": "1bc18cd7",
   "metadata": {
    "execution": {
     "iopub.execute_input": "2024-02-01T16:58:44.797798Z",
     "iopub.status.busy": "2024-02-01T16:58:44.796632Z",
     "iopub.status.idle": "2024-02-01T16:58:47.408262Z",
     "shell.execute_reply": "2024-02-01T16:58:47.406903Z"
    },
    "papermill": {
     "duration": 2.629602,
     "end_time": "2024-02-01T16:58:47.411552",
     "exception": false,
     "start_time": "2024-02-01T16:58:44.781950",
     "status": "completed"
    },
    "tags": []
   },
   "outputs": [],
   "source": [
    "import seaborn as sns \n",
    "import matplotlib.pyplot as plt \n",
    "from sklearn.model_selection import train_test_split\n",
    "from sklearn.tree import DecisionTreeClassifier\n",
    "from sklearn.ensemble import RandomForestClassifier\n",
    "from xgboost import XGBClassifier\n",
    "from sklearn.metrics import roc_curve,roc_auc_score\n",
    "from sklearn.model_selection import GridSearchCV\n",
    "from sklearn.model_selection import cross_val_score\n",
    "\n",
    "from sklearn.preprocessing import StandardScaler\n",
    "from sklearn.linear_model import LinearRegression\n",
    "from sklearn.ensemble import GradientBoostingRegressor,AdaBoostClassifier\n",
    "from sklearn.svm import SVC\n",
    "from sklearn.neighbors import KNeighborsClassifier\n",
    "from sklearn.neural_network import MLPRegressor"
   ]
  },
  {
   "cell_type": "code",
   "execution_count": 3,
   "id": "ed42513a",
   "metadata": {
    "execution": {
     "iopub.execute_input": "2024-02-01T16:58:47.439848Z",
     "iopub.status.busy": "2024-02-01T16:58:47.438744Z",
     "iopub.status.idle": "2024-02-01T16:58:47.772396Z",
     "shell.execute_reply": "2024-02-01T16:58:47.771046Z"
    },
    "papermill": {
     "duration": 0.351144,
     "end_time": "2024-02-01T16:58:47.775425",
     "exception": false,
     "start_time": "2024-02-01T16:58:47.424281",
     "status": "completed"
    },
    "tags": []
   },
   "outputs": [],
   "source": [
    "df = pd.read_csv('/kaggle/input/nasa-nearest-earth-objects/neo.csv')"
   ]
  },
  {
   "cell_type": "code",
   "execution_count": 4,
   "id": "b9be9c33",
   "metadata": {
    "execution": {
     "iopub.execute_input": "2024-02-01T16:58:47.805020Z",
     "iopub.status.busy": "2024-02-01T16:58:47.803822Z",
     "iopub.status.idle": "2024-02-01T16:58:47.830659Z",
     "shell.execute_reply": "2024-02-01T16:58:47.829534Z"
    },
    "papermill": {
     "duration": 0.044769,
     "end_time": "2024-02-01T16:58:47.833672",
     "exception": false,
     "start_time": "2024-02-01T16:58:47.788903",
     "status": "completed"
    },
    "tags": []
   },
   "outputs": [
    {
     "data": {
      "text/html": [
       "<div>\n",
       "<style scoped>\n",
       "    .dataframe tbody tr th:only-of-type {\n",
       "        vertical-align: middle;\n",
       "    }\n",
       "\n",
       "    .dataframe tbody tr th {\n",
       "        vertical-align: top;\n",
       "    }\n",
       "\n",
       "    .dataframe thead th {\n",
       "        text-align: right;\n",
       "    }\n",
       "</style>\n",
       "<table border=\"1\" class=\"dataframe\">\n",
       "  <thead>\n",
       "    <tr style=\"text-align: right;\">\n",
       "      <th></th>\n",
       "      <th>id</th>\n",
       "      <th>name</th>\n",
       "      <th>est_diameter_min</th>\n",
       "      <th>est_diameter_max</th>\n",
       "      <th>relative_velocity</th>\n",
       "      <th>miss_distance</th>\n",
       "      <th>orbiting_body</th>\n",
       "      <th>sentry_object</th>\n",
       "      <th>absolute_magnitude</th>\n",
       "      <th>hazardous</th>\n",
       "    </tr>\n",
       "  </thead>\n",
       "  <tbody>\n",
       "    <tr>\n",
       "      <th>0</th>\n",
       "      <td>2162635</td>\n",
       "      <td>162635 (2000 SS164)</td>\n",
       "      <td>1.198271</td>\n",
       "      <td>2.679415</td>\n",
       "      <td>13569.249224</td>\n",
       "      <td>5.483974e+07</td>\n",
       "      <td>Earth</td>\n",
       "      <td>False</td>\n",
       "      <td>16.73</td>\n",
       "      <td>False</td>\n",
       "    </tr>\n",
       "    <tr>\n",
       "      <th>1</th>\n",
       "      <td>2277475</td>\n",
       "      <td>277475 (2005 WK4)</td>\n",
       "      <td>0.265800</td>\n",
       "      <td>0.594347</td>\n",
       "      <td>73588.726663</td>\n",
       "      <td>6.143813e+07</td>\n",
       "      <td>Earth</td>\n",
       "      <td>False</td>\n",
       "      <td>20.00</td>\n",
       "      <td>True</td>\n",
       "    </tr>\n",
       "    <tr>\n",
       "      <th>2</th>\n",
       "      <td>2512244</td>\n",
       "      <td>512244 (2015 YE18)</td>\n",
       "      <td>0.722030</td>\n",
       "      <td>1.614507</td>\n",
       "      <td>114258.692129</td>\n",
       "      <td>4.979872e+07</td>\n",
       "      <td>Earth</td>\n",
       "      <td>False</td>\n",
       "      <td>17.83</td>\n",
       "      <td>False</td>\n",
       "    </tr>\n",
       "    <tr>\n",
       "      <th>3</th>\n",
       "      <td>3596030</td>\n",
       "      <td>(2012 BV13)</td>\n",
       "      <td>0.096506</td>\n",
       "      <td>0.215794</td>\n",
       "      <td>24764.303138</td>\n",
       "      <td>2.543497e+07</td>\n",
       "      <td>Earth</td>\n",
       "      <td>False</td>\n",
       "      <td>22.20</td>\n",
       "      <td>False</td>\n",
       "    </tr>\n",
       "    <tr>\n",
       "      <th>4</th>\n",
       "      <td>3667127</td>\n",
       "      <td>(2014 GE35)</td>\n",
       "      <td>0.255009</td>\n",
       "      <td>0.570217</td>\n",
       "      <td>42737.733765</td>\n",
       "      <td>4.627557e+07</td>\n",
       "      <td>Earth</td>\n",
       "      <td>False</td>\n",
       "      <td>20.09</td>\n",
       "      <td>True</td>\n",
       "    </tr>\n",
       "  </tbody>\n",
       "</table>\n",
       "</div>"
      ],
      "text/plain": [
       "        id                 name  est_diameter_min  est_diameter_max  \\\n",
       "0  2162635  162635 (2000 SS164)          1.198271          2.679415   \n",
       "1  2277475    277475 (2005 WK4)          0.265800          0.594347   \n",
       "2  2512244   512244 (2015 YE18)          0.722030          1.614507   \n",
       "3  3596030          (2012 BV13)          0.096506          0.215794   \n",
       "4  3667127          (2014 GE35)          0.255009          0.570217   \n",
       "\n",
       "   relative_velocity  miss_distance orbiting_body  sentry_object  \\\n",
       "0       13569.249224   5.483974e+07         Earth          False   \n",
       "1       73588.726663   6.143813e+07         Earth          False   \n",
       "2      114258.692129   4.979872e+07         Earth          False   \n",
       "3       24764.303138   2.543497e+07         Earth          False   \n",
       "4       42737.733765   4.627557e+07         Earth          False   \n",
       "\n",
       "   absolute_magnitude  hazardous  \n",
       "0               16.73      False  \n",
       "1               20.00       True  \n",
       "2               17.83      False  \n",
       "3               22.20      False  \n",
       "4               20.09       True  "
      ]
     },
     "execution_count": 4,
     "metadata": {},
     "output_type": "execute_result"
    }
   ],
   "source": [
    "df.head()"
   ]
  },
  {
   "cell_type": "code",
   "execution_count": 5,
   "id": "12250ef0",
   "metadata": {
    "execution": {
     "iopub.execute_input": "2024-02-01T16:58:47.861668Z",
     "iopub.status.busy": "2024-02-01T16:58:47.861234Z",
     "iopub.status.idle": "2024-02-01T16:58:47.916573Z",
     "shell.execute_reply": "2024-02-01T16:58:47.915326Z"
    },
    "papermill": {
     "duration": 0.072798,
     "end_time": "2024-02-01T16:58:47.919531",
     "exception": false,
     "start_time": "2024-02-01T16:58:47.846733",
     "status": "completed"
    },
    "tags": []
   },
   "outputs": [
    {
     "name": "stdout",
     "output_type": "stream",
     "text": [
      "<class 'pandas.core.frame.DataFrame'>\n",
      "RangeIndex: 90836 entries, 0 to 90835\n",
      "Data columns (total 10 columns):\n",
      " #   Column              Non-Null Count  Dtype  \n",
      "---  ------              --------------  -----  \n",
      " 0   id                  90836 non-null  int64  \n",
      " 1   name                90836 non-null  object \n",
      " 2   est_diameter_min    90836 non-null  float64\n",
      " 3   est_diameter_max    90836 non-null  float64\n",
      " 4   relative_velocity   90836 non-null  float64\n",
      " 5   miss_distance       90836 non-null  float64\n",
      " 6   orbiting_body       90836 non-null  object \n",
      " 7   sentry_object       90836 non-null  bool   \n",
      " 8   absolute_magnitude  90836 non-null  float64\n",
      " 9   hazardous           90836 non-null  bool   \n",
      "dtypes: bool(2), float64(5), int64(1), object(2)\n",
      "memory usage: 5.7+ MB\n"
     ]
    }
   ],
   "source": [
    "df.info()"
   ]
  },
  {
   "cell_type": "code",
   "execution_count": 6,
   "id": "aa864874",
   "metadata": {
    "execution": {
     "iopub.execute_input": "2024-02-01T16:58:47.948021Z",
     "iopub.status.busy": "2024-02-01T16:58:47.947575Z",
     "iopub.status.idle": "2024-02-01T16:58:48.004501Z",
     "shell.execute_reply": "2024-02-01T16:58:48.003222Z"
    },
    "papermill": {
     "duration": 0.07481,
     "end_time": "2024-02-01T16:58:48.007558",
     "exception": false,
     "start_time": "2024-02-01T16:58:47.932748",
     "status": "completed"
    },
    "tags": []
   },
   "outputs": [
    {
     "data": {
      "text/html": [
       "<div>\n",
       "<style scoped>\n",
       "    .dataframe tbody tr th:only-of-type {\n",
       "        vertical-align: middle;\n",
       "    }\n",
       "\n",
       "    .dataframe tbody tr th {\n",
       "        vertical-align: top;\n",
       "    }\n",
       "\n",
       "    .dataframe thead th {\n",
       "        text-align: right;\n",
       "    }\n",
       "</style>\n",
       "<table border=\"1\" class=\"dataframe\">\n",
       "  <thead>\n",
       "    <tr style=\"text-align: right;\">\n",
       "      <th></th>\n",
       "      <th>id</th>\n",
       "      <th>est_diameter_min</th>\n",
       "      <th>est_diameter_max</th>\n",
       "      <th>relative_velocity</th>\n",
       "      <th>miss_distance</th>\n",
       "      <th>absolute_magnitude</th>\n",
       "    </tr>\n",
       "  </thead>\n",
       "  <tbody>\n",
       "    <tr>\n",
       "      <th>count</th>\n",
       "      <td>9.083600e+04</td>\n",
       "      <td>90836.000000</td>\n",
       "      <td>90836.000000</td>\n",
       "      <td>90836.000000</td>\n",
       "      <td>9.083600e+04</td>\n",
       "      <td>90836.000000</td>\n",
       "    </tr>\n",
       "    <tr>\n",
       "      <th>mean</th>\n",
       "      <td>1.438288e+07</td>\n",
       "      <td>0.127432</td>\n",
       "      <td>0.284947</td>\n",
       "      <td>48066.918918</td>\n",
       "      <td>3.706655e+07</td>\n",
       "      <td>23.527103</td>\n",
       "    </tr>\n",
       "    <tr>\n",
       "      <th>std</th>\n",
       "      <td>2.087202e+07</td>\n",
       "      <td>0.298511</td>\n",
       "      <td>0.667491</td>\n",
       "      <td>25293.296961</td>\n",
       "      <td>2.235204e+07</td>\n",
       "      <td>2.894086</td>\n",
       "    </tr>\n",
       "    <tr>\n",
       "      <th>min</th>\n",
       "      <td>2.000433e+06</td>\n",
       "      <td>0.000609</td>\n",
       "      <td>0.001362</td>\n",
       "      <td>203.346433</td>\n",
       "      <td>6.745533e+03</td>\n",
       "      <td>9.230000</td>\n",
       "    </tr>\n",
       "    <tr>\n",
       "      <th>25%</th>\n",
       "      <td>3.448110e+06</td>\n",
       "      <td>0.019256</td>\n",
       "      <td>0.043057</td>\n",
       "      <td>28619.020645</td>\n",
       "      <td>1.721082e+07</td>\n",
       "      <td>21.340000</td>\n",
       "    </tr>\n",
       "    <tr>\n",
       "      <th>50%</th>\n",
       "      <td>3.748362e+06</td>\n",
       "      <td>0.048368</td>\n",
       "      <td>0.108153</td>\n",
       "      <td>44190.117890</td>\n",
       "      <td>3.784658e+07</td>\n",
       "      <td>23.700000</td>\n",
       "    </tr>\n",
       "    <tr>\n",
       "      <th>75%</th>\n",
       "      <td>3.884023e+06</td>\n",
       "      <td>0.143402</td>\n",
       "      <td>0.320656</td>\n",
       "      <td>62923.604633</td>\n",
       "      <td>5.654900e+07</td>\n",
       "      <td>25.700000</td>\n",
       "    </tr>\n",
       "    <tr>\n",
       "      <th>max</th>\n",
       "      <td>5.427591e+07</td>\n",
       "      <td>37.892650</td>\n",
       "      <td>84.730541</td>\n",
       "      <td>236990.128088</td>\n",
       "      <td>7.479865e+07</td>\n",
       "      <td>33.200000</td>\n",
       "    </tr>\n",
       "  </tbody>\n",
       "</table>\n",
       "</div>"
      ],
      "text/plain": [
       "                 id  est_diameter_min  est_diameter_max  relative_velocity  \\\n",
       "count  9.083600e+04      90836.000000      90836.000000       90836.000000   \n",
       "mean   1.438288e+07          0.127432          0.284947       48066.918918   \n",
       "std    2.087202e+07          0.298511          0.667491       25293.296961   \n",
       "min    2.000433e+06          0.000609          0.001362         203.346433   \n",
       "25%    3.448110e+06          0.019256          0.043057       28619.020645   \n",
       "50%    3.748362e+06          0.048368          0.108153       44190.117890   \n",
       "75%    3.884023e+06          0.143402          0.320656       62923.604633   \n",
       "max    5.427591e+07         37.892650         84.730541      236990.128088   \n",
       "\n",
       "       miss_distance  absolute_magnitude  \n",
       "count   9.083600e+04        90836.000000  \n",
       "mean    3.706655e+07           23.527103  \n",
       "std     2.235204e+07            2.894086  \n",
       "min     6.745533e+03            9.230000  \n",
       "25%     1.721082e+07           21.340000  \n",
       "50%     3.784658e+07           23.700000  \n",
       "75%     5.654900e+07           25.700000  \n",
       "max     7.479865e+07           33.200000  "
      ]
     },
     "execution_count": 6,
     "metadata": {},
     "output_type": "execute_result"
    }
   ],
   "source": [
    "df.describe()"
   ]
  },
  {
   "cell_type": "code",
   "execution_count": 7,
   "id": "3fec0967",
   "metadata": {
    "execution": {
     "iopub.execute_input": "2024-02-01T16:58:48.037782Z",
     "iopub.status.busy": "2024-02-01T16:58:48.037307Z",
     "iopub.status.idle": "2024-02-01T16:58:48.071088Z",
     "shell.execute_reply": "2024-02-01T16:58:48.070214Z"
    },
    "papermill": {
     "duration": 0.051641,
     "end_time": "2024-02-01T16:58:48.073863",
     "exception": false,
     "start_time": "2024-02-01T16:58:48.022222",
     "status": "completed"
    },
    "tags": []
   },
   "outputs": [
    {
     "data": {
      "text/plain": [
       "id                    0\n",
       "name                  0\n",
       "est_diameter_min      0\n",
       "est_diameter_max      0\n",
       "relative_velocity     0\n",
       "miss_distance         0\n",
       "orbiting_body         0\n",
       "sentry_object         0\n",
       "absolute_magnitude    0\n",
       "hazardous             0\n",
       "dtype: int64"
      ]
     },
     "execution_count": 7,
     "metadata": {},
     "output_type": "execute_result"
    }
   ],
   "source": [
    "# no nulls \n",
    "df.isnull().sum() "
   ]
  },
  {
   "cell_type": "code",
   "execution_count": 8,
   "id": "471d6da9",
   "metadata": {
    "execution": {
     "iopub.execute_input": "2024-02-01T16:58:48.102934Z",
     "iopub.status.busy": "2024-02-01T16:58:48.102490Z",
     "iopub.status.idle": "2024-02-01T16:58:48.191037Z",
     "shell.execute_reply": "2024-02-01T16:58:48.188780Z"
    },
    "papermill": {
     "duration": 0.107406,
     "end_time": "2024-02-01T16:58:48.194863",
     "exception": false,
     "start_time": "2024-02-01T16:58:48.087457",
     "status": "completed"
    },
    "tags": []
   },
   "outputs": [
    {
     "name": "stdout",
     "output_type": "stream",
     "text": [
      "               Column  Unique Values  Duplicated Values\n",
      "0                  id          27423              63413\n",
      "1                name          27423              63413\n",
      "2    est_diameter_min           1638              89198\n",
      "3    est_diameter_max           1638              89198\n",
      "4   relative_velocity          90828                  8\n",
      "5       miss_distance          90536                300\n",
      "6       orbiting_body              1              90835\n",
      "7       sentry_object              1              90835\n",
      "8  absolute_magnitude           1638              89198\n",
      "9           hazardous              2              90834\n"
     ]
    }
   ],
   "source": [
    "def analyze_duplicates_and_uniques_as_table(dataframe_name):\n",
    "    # Initialize two empty lists to store the count of unique and duplicated values for each column\n",
    "    unique_values = []\n",
    "    duplicated_values = []\n",
    "\n",
    "    # Loop through each column in the DataFrame\n",
    "    for column in dataframe_name.columns:\n",
    "        # Append the count of unique values in the column to the unique_values list\n",
    "        unique_values.append(dataframe_name[column].nunique())\n",
    "        # Append the count of duplicated values in the column to the duplicated_values list\n",
    "        duplicated_values.append(dataframe_name[column].duplicated().sum())\n",
    "\n",
    "    # Create a new DataFrame to display the results\n",
    "    # It includes the column names, count of unique values, and count of duplicated values\n",
    "    results_df = pd.DataFrame({\n",
    "        'Column': dataframe_name.columns,\n",
    "        'Unique Values': unique_values,\n",
    "        'Duplicated Values': duplicated_values\n",
    "    })\n",
    "\n",
    "    # Return the results DataFrame\n",
    "    return results_df\n",
    "\n",
    "\n",
    "result_table = analyze_duplicates_and_uniques_as_table(df)\n",
    "# Prints the resulting DataFrame which shows the unique and duplicated values count for each column in df\n",
    "print(result_table)\n"
   ]
  },
  {
   "cell_type": "code",
   "execution_count": 9,
   "id": "4d6c6373",
   "metadata": {
    "execution": {
     "iopub.execute_input": "2024-02-01T16:58:48.237448Z",
     "iopub.status.busy": "2024-02-01T16:58:48.234990Z",
     "iopub.status.idle": "2024-02-01T16:58:48.258651Z",
     "shell.execute_reply": "2024-02-01T16:58:48.257107Z"
    },
    "papermill": {
     "duration": 0.047409,
     "end_time": "2024-02-01T16:58:48.261804",
     "exception": false,
     "start_time": "2024-02-01T16:58:48.214395",
     "status": "completed"
    },
    "tags": []
   },
   "outputs": [
    {
     "data": {
      "text/html": [
       "<div>\n",
       "<style scoped>\n",
       "    .dataframe tbody tr th:only-of-type {\n",
       "        vertical-align: middle;\n",
       "    }\n",
       "\n",
       "    .dataframe tbody tr th {\n",
       "        vertical-align: top;\n",
       "    }\n",
       "\n",
       "    .dataframe thead th {\n",
       "        text-align: right;\n",
       "    }\n",
       "</style>\n",
       "<table border=\"1\" class=\"dataframe\">\n",
       "  <thead>\n",
       "    <tr style=\"text-align: right;\">\n",
       "      <th></th>\n",
       "      <th>est_diameter_min</th>\n",
       "      <th>est_diameter_max</th>\n",
       "      <th>relative_velocity</th>\n",
       "      <th>miss_distance</th>\n",
       "      <th>absolute_magnitude</th>\n",
       "      <th>hazardous</th>\n",
       "    </tr>\n",
       "  </thead>\n",
       "  <tbody>\n",
       "    <tr>\n",
       "      <th>0</th>\n",
       "      <td>1.198271</td>\n",
       "      <td>2.679415</td>\n",
       "      <td>13569.249224</td>\n",
       "      <td>5.483974e+07</td>\n",
       "      <td>16.73</td>\n",
       "      <td>False</td>\n",
       "    </tr>\n",
       "    <tr>\n",
       "      <th>1</th>\n",
       "      <td>0.265800</td>\n",
       "      <td>0.594347</td>\n",
       "      <td>73588.726663</td>\n",
       "      <td>6.143813e+07</td>\n",
       "      <td>20.00</td>\n",
       "      <td>True</td>\n",
       "    </tr>\n",
       "    <tr>\n",
       "      <th>2</th>\n",
       "      <td>0.722030</td>\n",
       "      <td>1.614507</td>\n",
       "      <td>114258.692129</td>\n",
       "      <td>4.979872e+07</td>\n",
       "      <td>17.83</td>\n",
       "      <td>False</td>\n",
       "    </tr>\n",
       "    <tr>\n",
       "      <th>3</th>\n",
       "      <td>0.096506</td>\n",
       "      <td>0.215794</td>\n",
       "      <td>24764.303138</td>\n",
       "      <td>2.543497e+07</td>\n",
       "      <td>22.20</td>\n",
       "      <td>False</td>\n",
       "    </tr>\n",
       "    <tr>\n",
       "      <th>4</th>\n",
       "      <td>0.255009</td>\n",
       "      <td>0.570217</td>\n",
       "      <td>42737.733765</td>\n",
       "      <td>4.627557e+07</td>\n",
       "      <td>20.09</td>\n",
       "      <td>True</td>\n",
       "    </tr>\n",
       "  </tbody>\n",
       "</table>\n",
       "</div>"
      ],
      "text/plain": [
       "   est_diameter_min  est_diameter_max  relative_velocity  miss_distance  \\\n",
       "0          1.198271          2.679415       13569.249224   5.483974e+07   \n",
       "1          0.265800          0.594347       73588.726663   6.143813e+07   \n",
       "2          0.722030          1.614507      114258.692129   4.979872e+07   \n",
       "3          0.096506          0.215794       24764.303138   2.543497e+07   \n",
       "4          0.255009          0.570217       42737.733765   4.627557e+07   \n",
       "\n",
       "   absolute_magnitude  hazardous  \n",
       "0               16.73      False  \n",
       "1               20.00       True  \n",
       "2               17.83      False  \n",
       "3               22.20      False  \n",
       "4               20.09       True  "
      ]
     },
     "execution_count": 9,
     "metadata": {},
     "output_type": "execute_result"
    }
   ],
   "source": [
    "df.drop(columns=['id','name','orbiting_body','sentry_object'],axis=1,inplace=True)\n",
    "df.head()"
   ]
  },
  {
   "cell_type": "markdown",
   "id": "65076d6e",
   "metadata": {
    "papermill": {
     "duration": 0.013751,
     "end_time": "2024-02-01T16:58:48.290565",
     "exception": false,
     "start_time": "2024-02-01T16:58:48.276814",
     "status": "completed"
    },
    "tags": []
   },
   "source": [
    "**EDA**"
   ]
  },
  {
   "cell_type": "code",
   "execution_count": 10,
   "id": "eb1d4b04",
   "metadata": {
    "execution": {
     "iopub.execute_input": "2024-02-01T16:58:48.321392Z",
     "iopub.status.busy": "2024-02-01T16:58:48.320549Z",
     "iopub.status.idle": "2024-02-01T16:58:49.721826Z",
     "shell.execute_reply": "2024-02-01T16:58:49.720403Z"
    },
    "papermill": {
     "duration": 1.419924,
     "end_time": "2024-02-01T16:58:49.724764",
     "exception": false,
     "start_time": "2024-02-01T16:58:48.304840",
     "status": "completed"
    },
    "tags": []
   },
   "outputs": [
    {
     "name": "stderr",
     "output_type": "stream",
     "text": [
      "/opt/conda/lib/python3.10/site-packages/seaborn/_oldcore.py:1119: FutureWarning: use_inf_as_na option is deprecated and will be removed in a future version. Convert inf values to NaN before operating instead.\n",
      "  with pd.option_context('mode.use_inf_as_na', True):\n",
      "/opt/conda/lib/python3.10/site-packages/seaborn/_oldcore.py:1119: FutureWarning: use_inf_as_na option is deprecated and will be removed in a future version. Convert inf values to NaN before operating instead.\n",
      "  with pd.option_context('mode.use_inf_as_na', True):\n"
     ]
    },
    {
     "data": {
      "text/plain": [
       "Text(0.5, 1.0, 'Hazardous VS Diamtere')"
      ]
     },
     "execution_count": 10,
     "metadata": {},
     "output_type": "execute_result"
    },
    {
     "data": {
      "image/png": "[encoded data removed]",
      "text/plain": [
       "<Figure size 640x480 with 1 Axes>"
      ]
     },
     "metadata": {},
     "output_type": "display_data"
    }
   ],
   "source": [
    "sns.lineplot(x=df.hazardous,y=df.est_diameter_max)\n",
    "plt.title('Hazardous VS Diamtere')"
   ]
  },
  {
   "cell_type": "code",
   "execution_count": 11,
   "id": "cf313c7c",
   "metadata": {
    "execution": {
     "iopub.execute_input": "2024-02-01T16:58:49.756127Z",
     "iopub.status.busy": "2024-02-01T16:58:49.755670Z",
     "iopub.status.idle": "2024-02-01T16:58:51.139392Z",
     "shell.execute_reply": "2024-02-01T16:58:51.138209Z"
    },
    "papermill": {
     "duration": 1.403518,
     "end_time": "2024-02-01T16:58:51.143012",
     "exception": false,
     "start_time": "2024-02-01T16:58:49.739494",
     "status": "completed"
    },
    "tags": []
   },
   "outputs": [
    {
     "name": "stderr",
     "output_type": "stream",
     "text": [
      "/opt/conda/lib/python3.10/site-packages/seaborn/_oldcore.py:1119: FutureWarning: use_inf_as_na option is deprecated and will be removed in a future version. Convert inf values to NaN before operating instead.\n",
      "  with pd.option_context('mode.use_inf_as_na', True):\n",
      "/opt/conda/lib/python3.10/site-packages/seaborn/_oldcore.py:1119: FutureWarning: use_inf_as_na option is deprecated and will be removed in a future version. Convert inf values to NaN before operating instead.\n",
      "  with pd.option_context('mode.use_inf_as_na', True):\n"
     ]
    },
    {
     "data": {
      "text/plain": [
       "Text(0.5, 1.0, 'Hazardous VS Relative Velocity')"
      ]
     },
     "execution_count": 11,
     "metadata": {},
     "output_type": "execute_result"
    },
    {
     "data": {
      "image/png": "[encoded data removed]",
      "text/plain": [
       "<Figure size 640x480 with 1 Axes>"
      ]
     },
     "metadata": {},
     "output_type": "display_data"
    }
   ],
   "source": [
    "sns.lineplot(x=df.hazardous,y=df.relative_velocity)\n",
    "plt.title('Hazardous VS Relative Velocity')"
   ]
  },
  {
   "cell_type": "code",
   "execution_count": 12,
   "id": "881bd87d",
   "metadata": {
    "execution": {
     "iopub.execute_input": "2024-02-01T16:58:51.177013Z",
     "iopub.status.busy": "2024-02-01T16:58:51.176545Z",
     "iopub.status.idle": "2024-02-01T16:58:52.492617Z",
     "shell.execute_reply": "2024-02-01T16:58:52.491379Z"
    },
    "papermill": {
     "duration": 1.336587,
     "end_time": "2024-02-01T16:58:52.495499",
     "exception": false,
     "start_time": "2024-02-01T16:58:51.158912",
     "status": "completed"
    },
    "tags": []
   },
   "outputs": [
    {
     "name": "stderr",
     "output_type": "stream",
     "text": [
      "/opt/conda/lib/python3.10/site-packages/seaborn/_oldcore.py:1119: FutureWarning: use_inf_as_na option is deprecated and will be removed in a future version. Convert inf values to NaN before operating instead.\n",
      "  with pd.option_context('mode.use_inf_as_na', True):\n",
      "/opt/conda/lib/python3.10/site-packages/seaborn/_oldcore.py:1119: FutureWarning: use_inf_as_na option is deprecated and will be removed in a future version. Convert inf values to NaN before operating instead.\n",
      "  with pd.option_context('mode.use_inf_as_na', True):\n"
     ]
    },
    {
     "data": {
      "text/plain": [
       "Text(0.5, 1.0, 'Hazardous VS Absolute Magnitude')"
      ]
     },
     "execution_count": 12,
     "metadata": {},
     "output_type": "execute_result"
    },
    {
     "data": {
      "image/png": "[encoded data removed]",
      "text/plain": [
       "<Figure size 640x480 with 1 Axes>"
      ]
     },
     "metadata": {},
     "output_type": "display_data"
    }
   ],
   "source": [
    "sns.lineplot(x=df.hazardous,y=df.absolute_magnitude)\n",
    "plt.title('Hazardous VS Absolute Magnitude')"
   ]
  },
  {
   "cell_type": "code",
   "execution_count": 13,
   "id": "3c2f9f82",
   "metadata": {
    "execution": {
     "iopub.execute_input": "2024-02-01T16:58:52.531759Z",
     "iopub.status.busy": "2024-02-01T16:58:52.531331Z",
     "iopub.status.idle": "2024-02-01T16:58:52.723567Z",
     "shell.execute_reply": "2024-02-01T16:58:52.722347Z"
    },
    "papermill": {
     "duration": 0.213558,
     "end_time": "2024-02-01T16:58:52.726439",
     "exception": false,
     "start_time": "2024-02-01T16:58:52.512881",
     "status": "completed"
    },
    "tags": []
   },
   "outputs": [
    {
     "data": {
      "text/plain": [
       "<Axes: xlabel='hazardous'>"
      ]
     },
     "execution_count": 13,
     "metadata": {},
     "output_type": "execute_result"
    },
    {
     "data": {
      "image/png": "[encoded data removed]",
      "text/plain": [
       "<Figure size 640x480 with 1 Axes>"
      ]
     },
     "metadata": {},
     "output_type": "display_data"
    }
   ],
   "source": [
    "hazar_count=df.hazardous.value_counts()\n",
    "sns.barplot(x=hazar_count.index,y=hazar_count.values)"
   ]
  },
  {
   "cell_type": "code",
   "execution_count": 14,
   "id": "7b297f04",
   "metadata": {
    "execution": {
     "iopub.execute_input": "2024-02-01T16:58:52.763448Z",
     "iopub.status.busy": "2024-02-01T16:58:52.762994Z",
     "iopub.status.idle": "2024-02-01T16:58:52.779165Z",
     "shell.execute_reply": "2024-02-01T16:58:52.777627Z"
    },
    "papermill": {
     "duration": 0.037447,
     "end_time": "2024-02-01T16:58:52.781522",
     "exception": false,
     "start_time": "2024-02-01T16:58:52.744075",
     "status": "completed"
    },
    "tags": []
   },
   "outputs": [
    {
     "name": "stdout",
     "output_type": "stream",
     "text": [
      "<class 'pandas.core.frame.DataFrame'>\n",
      "RangeIndex: 90836 entries, 0 to 90835\n",
      "Data columns (total 6 columns):\n",
      " #   Column              Non-Null Count  Dtype  \n",
      "---  ------              --------------  -----  \n",
      " 0   est_diameter_min    90836 non-null  float64\n",
      " 1   est_diameter_max    90836 non-null  float64\n",
      " 2   relative_velocity   90836 non-null  float64\n",
      " 3   miss_distance       90836 non-null  float64\n",
      " 4   absolute_magnitude  90836 non-null  float64\n",
      " 5   hazardous           90836 non-null  int64  \n",
      "dtypes: float64(5), int64(1)\n",
      "memory usage: 4.2 MB\n"
     ]
    }
   ],
   "source": [
    "df['hazardous']=df['hazardous'].replace({'False':0,'True':1}).astype(int)\n",
    "df.info()"
   ]
  },
  {
   "cell_type": "code",
   "execution_count": 15,
   "id": "7a2440e5",
   "metadata": {
    "execution": {
     "iopub.execute_input": "2024-02-01T16:58:52.818483Z",
     "iopub.status.busy": "2024-02-01T16:58:52.817595Z",
     "iopub.status.idle": "2024-02-01T16:58:52.825123Z",
     "shell.execute_reply": "2024-02-01T16:58:52.824242Z"
    },
    "papermill": {
     "duration": 0.02851,
     "end_time": "2024-02-01T16:58:52.827435",
     "exception": false,
     "start_time": "2024-02-01T16:58:52.798925",
     "status": "completed"
    },
    "tags": []
   },
   "outputs": [],
   "source": [
    "X=df.drop(columns='hazardous')\n",
    "y=df.hazardous.values"
   ]
  },
  {
   "cell_type": "code",
   "execution_count": 16,
   "id": "701931bc",
   "metadata": {
    "execution": {
     "iopub.execute_input": "2024-02-01T16:58:52.864652Z",
     "iopub.status.busy": "2024-02-01T16:58:52.864168Z",
     "iopub.status.idle": "2024-02-01T16:58:52.882789Z",
     "shell.execute_reply": "2024-02-01T16:58:52.881543Z"
    },
    "papermill": {
     "duration": 0.040935,
     "end_time": "2024-02-01T16:58:52.885785",
     "exception": false,
     "start_time": "2024-02-01T16:58:52.844850",
     "status": "completed"
    },
    "tags": []
   },
   "outputs": [
    {
     "name": "stdout",
     "output_type": "stream",
     "text": [
      "(72668, 5)\n",
      "(18168, 5)\n",
      "(72668,)\n",
      "(18168,)\n"
     ]
    }
   ],
   "source": [
    "X_train,X_test,y_train,y_test=train_test_split(X,y,test_size=0.2,random_state=42)\n",
    "print(X_train.shape)\n",
    "print(X_test.shape)\n",
    "print(y_train.shape)\n",
    "print(y_test.shape)"
   ]
  },
  {
   "cell_type": "code",
   "execution_count": 17,
   "id": "ea5c7c5c",
   "metadata": {
    "execution": {
     "iopub.execute_input": "2024-02-01T16:58:52.922838Z",
     "iopub.status.busy": "2024-02-01T16:58:52.922416Z",
     "iopub.status.idle": "2024-02-01T16:58:52.928483Z",
     "shell.execute_reply": "2024-02-01T16:58:52.927315Z"
    },
    "papermill": {
     "duration": 0.027619,
     "end_time": "2024-02-01T16:58:52.930993",
     "exception": false,
     "start_time": "2024-02-01T16:58:52.903374",
     "status": "completed"
    },
    "tags": []
   },
   "outputs": [],
   "source": [
    "models={\n",
    "    'DT':DecisionTreeClassifier(),\n",
    "    'RF':RandomForestClassifier(),\n",
    "    'XGB':XGBClassifier(),\n",
    "    'KNeighbors': KNeighborsClassifier(),\n",
    "    'AdaBoost': AdaBoostClassifier()\n",
    "}"
   ]
  },
  {
   "cell_type": "code",
   "execution_count": 18,
   "id": "6b76426e",
   "metadata": {
    "execution": {
     "iopub.execute_input": "2024-02-01T16:58:52.968029Z",
     "iopub.status.busy": "2024-02-01T16:58:52.967613Z",
     "iopub.status.idle": "2024-02-01T16:59:10.684432Z",
     "shell.execute_reply": "2024-02-01T16:59:10.683116Z"
    },
    "papermill": {
     "duration": 17.738537,
     "end_time": "2024-02-01T16:59:10.687229",
     "exception": false,
     "start_time": "2024-02-01T16:58:52.948692",
     "status": "completed"
    },
    "tags": []
   },
   "outputs": [
    {
     "name": "stdout",
     "output_type": "stream",
     "text": [
      "the AUC for DT is 0.7078739772686452\n",
      "the AUC for RF is 0.9351917992138136\n",
      "the AUC for XGB is 0.9224299301506584\n",
      "the AUC for KNeighbors is 0.578893063867819\n",
      "the AUC for AdaBoost is 0.9109793040721096\n"
     ]
    }
   ],
   "source": [
    "for name,model in models.items():\n",
    "    model.fit(X_train,y_train)\n",
    "    y_pred=model.predict_proba(X_test)[:, 1]\n",
    "    AUC=roc_auc_score(y_test,y_pred)\n",
    "    print(f'the AUC for {name} is {AUC}')"
   ]
  },
  {
   "cell_type": "code",
   "execution_count": 19,
   "id": "c448aaaf",
   "metadata": {
    "execution": {
     "iopub.execute_input": "2024-02-01T16:59:10.724778Z",
     "iopub.status.busy": "2024-02-01T16:59:10.724342Z",
     "iopub.status.idle": "2024-02-01T17:05:50.461440Z",
     "shell.execute_reply": "2024-02-01T17:05:50.459954Z"
    },
    "papermill": {
     "duration": 399.760113,
     "end_time": "2024-02-01T17:05:50.464903",
     "exception": false,
     "start_time": "2024-02-01T16:59:10.704790",
     "status": "completed"
    },
    "tags": []
   },
   "outputs": [],
   "source": [
    "\n",
    "for model_name, model in models.items():\n",
    "    if model_name == 'DT':\n",
    "        scores_DT=[]\n",
    "        max_depth=[2,5,10,20,30,40,50,100]\n",
    "        for d in max_depth:\n",
    "            DT=DecisionTreeClassifier(max_depth=d)\n",
    "            DT.fit(X_train,y_train)\n",
    "            y_pred=DT.predict_proba(X_test)[:,1]\n",
    "            AUC_DT=roc_auc_score(y_test,y_pred)\n",
    "            scores_DT.append((d,AUC_DT))\n",
    "    \n",
    "    elif model_name == 'RF':\n",
    "        scores_RF=[]\n",
    "        max_depth=[2,5,10,20,30,40,50,100,250,500]\n",
    "        for d in max_depth:\n",
    "            RF=RandomForestClassifier(max_depth=d)\n",
    "            RF.fit(X_train,y_train)\n",
    "            y_pred=RF.predict_proba(X_test)[:,1]\n",
    "            AUC=roc_auc_score(y_test,y_pred)\n",
    "            scores_RF.append((d,AUC))\n",
    "            \n",
    "    elif model_name == 'XGB':\n",
    "        scores_XGB=[]\n",
    "        max_depth=[2,5,10,20,30,40,50,100]\n",
    "        for d in max_depth:\n",
    "            XGB=XGBClassifier(max_depth=d)\n",
    "            XGB.fit(X_train,y_train)\n",
    "            y_pred=XGB.predict_proba(X_test)[:,1]\n",
    "            AUC_XGB=roc_auc_score(y_test,y_pred)\n",
    "            scores_XGB.append((d,AUC_XGB))\n",
    "            \n",
    "    elif model_name == 'KNeighbors':\n",
    "        scores_KN=[]\n",
    "        n_neighbors=[2,5,10,20,30,40,50,100]\n",
    "        for d in n_neighbors:\n",
    "            KN=KNeighborsClassifier(n_neighbors=d)\n",
    "            KN.fit(X_train,y_train)\n",
    "            y_pred=KN.predict_proba(X_test)[:,1]\n",
    "            AUC_KN=roc_auc_score(y_test,y_pred)\n",
    "            scores_KN.append((d,AUC_KN))\n",
    "            \n",
    "    elif model_name == 'AdaBoost':\n",
    "        scores_ADA=[]\n",
    "        n_estimators=[100,500,1000,2000]\n",
    "        for d in n_estimators:\n",
    "            ADA=AdaBoostClassifier(n_estimators=d)\n",
    "            ADA.fit(X_train,y_train)\n",
    "            y_pred=ADA.predict_proba(X_test)[:,1]\n",
    "            AUC_ADA=roc_auc_score(y_test,y_pred)\n",
    "            scores_ADA.append((d,AUC_ADA))\n",
    "            "
   ]
  },
  {
   "cell_type": "code",
   "execution_count": 20,
   "id": "f4f29948",
   "metadata": {
    "execution": {
     "iopub.execute_input": "2024-02-01T17:05:50.504064Z",
     "iopub.status.busy": "2024-02-01T17:05:50.503371Z",
     "iopub.status.idle": "2024-02-01T17:05:50.512342Z",
     "shell.execute_reply": "2024-02-01T17:05:50.511419Z"
    },
    "papermill": {
     "duration": 0.031423,
     "end_time": "2024-02-01T17:05:50.514997",
     "exception": false,
     "start_time": "2024-02-01T17:05:50.483574",
     "status": "completed"
    },
    "tags": []
   },
   "outputs": [],
   "source": [
    "df_score_DT=pd.DataFrame(scores_DT,columns=['max_depth','AUC_Decision_Tree'])\n",
    "df_score_RF=pd.DataFrame(scores_RF,columns=['max_depth','AUC_Random_Forest'])\n",
    "df_score_XGB=pd.DataFrame(scores_XGB,columns=['max_depth','AUC_XGB_Classifier'])\n",
    "df_score_KN=pd.DataFrame(scores_KN,columns=['n_neighbors','AUC_KNeighbors'])\n",
    "df_score_ADA=pd.DataFrame(scores_ADA,columns=['n_estimators','AUC_AdaBoost'])"
   ]
  },
  {
   "cell_type": "code",
   "execution_count": 21,
   "id": "a0d9b573",
   "metadata": {
    "execution": {
     "iopub.execute_input": "2024-02-01T17:05:50.553406Z",
     "iopub.status.busy": "2024-02-01T17:05:50.552701Z",
     "iopub.status.idle": "2024-02-01T17:05:50.808632Z",
     "shell.execute_reply": "2024-02-01T17:05:50.807426Z"
    },
    "papermill": {
     "duration": 0.278186,
     "end_time": "2024-02-01T17:05:50.811541",
     "exception": false,
     "start_time": "2024-02-01T17:05:50.533355",
     "status": "completed"
    },
    "tags": []
   },
   "outputs": [
    {
     "name": "stderr",
     "output_type": "stream",
     "text": [
      "/opt/conda/lib/python3.10/site-packages/seaborn/_oldcore.py:1119: FutureWarning: use_inf_as_na option is deprecated and will be removed in a future version. Convert inf values to NaN before operating instead.\n",
      "  with pd.option_context('mode.use_inf_as_na', True):\n",
      "/opt/conda/lib/python3.10/site-packages/seaborn/_oldcore.py:1119: FutureWarning: use_inf_as_na option is deprecated and will be removed in a future version. Convert inf values to NaN before operating instead.\n",
      "  with pd.option_context('mode.use_inf_as_na', True):\n"
     ]
    },
    {
     "data": {
      "text/plain": [
       "<Axes: xlabel='max_depth', ylabel='AUC_Decision_Tree'>"
      ]
     },
     "execution_count": 21,
     "metadata": {},
     "output_type": "execute_result"
    },
    {
     "data": {
      "image/png": "[encoded data removed]",
      "text/plain": [
       "<Figure size 640x480 with 1 Axes>"
      ]
     },
     "metadata": {},
     "output_type": "display_data"
    }
   ],
   "source": [
    "sns.lineplot(x=df_score_DT.max_depth,y=df_score_DT.AUC_Decision_Tree)\n"
   ]
  },
  {
   "cell_type": "code",
   "execution_count": 22,
   "id": "dbae0539",
   "metadata": {
    "execution": {
     "iopub.execute_input": "2024-02-01T17:05:50.851383Z",
     "iopub.status.busy": "2024-02-01T17:05:50.850657Z",
     "iopub.status.idle": "2024-02-01T17:05:51.097870Z",
     "shell.execute_reply": "2024-02-01T17:05:51.096701Z"
    },
    "papermill": {
     "duration": 0.270414,
     "end_time": "2024-02-01T17:05:51.100414",
     "exception": false,
     "start_time": "2024-02-01T17:05:50.830000",
     "status": "completed"
    },
    "tags": []
   },
   "outputs": [
    {
     "name": "stderr",
     "output_type": "stream",
     "text": [
      "/opt/conda/lib/python3.10/site-packages/seaborn/_oldcore.py:1119: FutureWarning: use_inf_as_na option is deprecated and will be removed in a future version. Convert inf values to NaN before operating instead.\n",
      "  with pd.option_context('mode.use_inf_as_na', True):\n",
      "/opt/conda/lib/python3.10/site-packages/seaborn/_oldcore.py:1119: FutureWarning: use_inf_as_na option is deprecated and will be removed in a future version. Convert inf values to NaN before operating instead.\n",
      "  with pd.option_context('mode.use_inf_as_na', True):\n"
     ]
    },
    {
     "data": {
      "text/plain": [
       "<Axes: xlabel='max_depth', ylabel='AUC_Random_Forest'>"
      ]
     },
     "execution_count": 22,
     "metadata": {},
     "output_type": "execute_result"
    },
    {
     "data": {
      "image/png": "[encoded data removed]",
      "text/plain": [
       "<Figure size 640x480 with 1 Axes>"
      ]
     },
     "metadata": {},
     "output_type": "display_data"
    }
   ],
   "source": [
    "sns.lineplot(x=df_score_RF.max_depth,y=df_score_RF.AUC_Random_Forest)\n"
   ]
  },
  {
   "cell_type": "code",
   "execution_count": 23,
   "id": "73ea2f0e",
   "metadata": {
    "execution": {
     "iopub.execute_input": "2024-02-01T17:05:51.143437Z",
     "iopub.status.busy": "2024-02-01T17:05:51.142963Z",
     "iopub.status.idle": "2024-02-01T17:05:51.380213Z",
     "shell.execute_reply": "2024-02-01T17:05:51.379047Z"
    },
    "papermill": {
     "duration": 0.261792,
     "end_time": "2024-02-01T17:05:51.383298",
     "exception": false,
     "start_time": "2024-02-01T17:05:51.121506",
     "status": "completed"
    },
    "tags": []
   },
   "outputs": [
    {
     "name": "stderr",
     "output_type": "stream",
     "text": [
      "/opt/conda/lib/python3.10/site-packages/seaborn/_oldcore.py:1119: FutureWarning: use_inf_as_na option is deprecated and will be removed in a future version. Convert inf values to NaN before operating instead.\n",
      "  with pd.option_context('mode.use_inf_as_na', True):\n",
      "/opt/conda/lib/python3.10/site-packages/seaborn/_oldcore.py:1119: FutureWarning: use_inf_as_na option is deprecated and will be removed in a future version. Convert inf values to NaN before operating instead.\n",
      "  with pd.option_context('mode.use_inf_as_na', True):\n"
     ]
    },
    {
     "data": {
      "text/plain": [
       "<Axes: xlabel='max_depth', ylabel='AUC_XGB_Classifier'>"
      ]
     },
     "execution_count": 23,
     "metadata": {},
     "output_type": "execute_result"
    },
    {
     "data": {
      "image/png": "[encoded data removed]",
      "text/plain": [
       "<Figure size 640x480 with 1 Axes>"
      ]
     },
     "metadata": {},
     "output_type": "display_data"
    }
   ],
   "source": [
    "sns.lineplot(x=df_score_XGB.max_depth,y=df_score_XGB.AUC_XGB_Classifier)\n"
   ]
  },
  {
   "cell_type": "code",
   "execution_count": 24,
   "id": "2f0a4bcf",
   "metadata": {
    "execution": {
     "iopub.execute_input": "2024-02-01T17:05:51.426531Z",
     "iopub.status.busy": "2024-02-01T17:05:51.425736Z",
     "iopub.status.idle": "2024-02-01T17:05:51.654837Z",
     "shell.execute_reply": "2024-02-01T17:05:51.653612Z"
    },
    "papermill": {
     "duration": 0.253812,
     "end_time": "2024-02-01T17:05:51.657487",
     "exception": false,
     "start_time": "2024-02-01T17:05:51.403675",
     "status": "completed"
    },
    "tags": []
   },
   "outputs": [
    {
     "name": "stderr",
     "output_type": "stream",
     "text": [
      "/opt/conda/lib/python3.10/site-packages/seaborn/_oldcore.py:1119: FutureWarning: use_inf_as_na option is deprecated and will be removed in a future version. Convert inf values to NaN before operating instead.\n",
      "  with pd.option_context('mode.use_inf_as_na', True):\n",
      "/opt/conda/lib/python3.10/site-packages/seaborn/_oldcore.py:1119: FutureWarning: use_inf_as_na option is deprecated and will be removed in a future version. Convert inf values to NaN before operating instead.\n",
      "  with pd.option_context('mode.use_inf_as_na', True):\n"
     ]
    },
    {
     "data": {
      "text/plain": [
       "<Axes: xlabel='n_neighbors', ylabel='AUC_KNeighbors'>"
      ]
     },
     "execution_count": 24,
     "metadata": {},
     "output_type": "execute_result"
    },
    {
     "data": {
      "image/png": "[encoded data removed]",
      "text/plain": [
       "<Figure size 640x480 with 1 Axes>"
      ]
     },
     "metadata": {},
     "output_type": "display_data"
    }
   ],
   "source": [
    "sns.lineplot(x=df_score_KN.n_neighbors,y=df_score_KN.AUC_KNeighbors)\n"
   ]
  },
  {
   "cell_type": "code",
   "execution_count": 25,
   "id": "1d2fc5b5",
   "metadata": {
    "execution": {
     "iopub.execute_input": "2024-02-01T17:05:51.701400Z",
     "iopub.status.busy": "2024-02-01T17:05:51.700916Z",
     "iopub.status.idle": "2024-02-01T17:05:51.947270Z",
     "shell.execute_reply": "2024-02-01T17:05:51.946018Z"
    },
    "papermill": {
     "duration": 0.271323,
     "end_time": "2024-02-01T17:05:51.949774",
     "exception": false,
     "start_time": "2024-02-01T17:05:51.678451",
     "status": "completed"
    },
    "tags": []
   },
   "outputs": [
    {
     "name": "stderr",
     "output_type": "stream",
     "text": [
      "/opt/conda/lib/python3.10/site-packages/seaborn/_oldcore.py:1119: FutureWarning: use_inf_as_na option is deprecated and will be removed in a future version. Convert inf values to NaN before operating instead.\n",
      "  with pd.option_context('mode.use_inf_as_na', True):\n",
      "/opt/conda/lib/python3.10/site-packages/seaborn/_oldcore.py:1119: FutureWarning: use_inf_as_na option is deprecated and will be removed in a future version. Convert inf values to NaN before operating instead.\n",
      "  with pd.option_context('mode.use_inf_as_na', True):\n"
     ]
    },
    {
     "data": {
      "text/plain": [
       "<Axes: xlabel='n_estimators', ylabel='AUC_AdaBoost'>"
      ]
     },
     "execution_count": 25,
     "metadata": {},
     "output_type": "execute_result"
    },
    {
     "data": {
      "image/png": "[encoded data removed]",
      "text/plain": [
       "<Figure size 640x480 with 1 Axes>"
      ]
     },
     "metadata": {},
     "output_type": "display_data"
    }
   ],
   "source": [
    "sns.lineplot(x=df_score_ADA.n_estimators,y=df_score_ADA.AUC_AdaBoost)"
   ]
  },
  {
   "cell_type": "code",
   "execution_count": 26,
   "id": "9b17a981",
   "metadata": {
    "execution": {
     "iopub.execute_input": "2024-02-01T17:05:51.995620Z",
     "iopub.status.busy": "2024-02-01T17:05:51.995130Z",
     "iopub.status.idle": "2024-02-01T17:05:52.006442Z",
     "shell.execute_reply": "2024-02-01T17:05:52.005328Z"
    },
    "papermill": {
     "duration": 0.036965,
     "end_time": "2024-02-01T17:05:52.008707",
     "exception": false,
     "start_time": "2024-02-01T17:05:51.971742",
     "status": "completed"
    },
    "tags": []
   },
   "outputs": [
    {
     "data": {
      "text/html": [
       "<div>\n",
       "<style scoped>\n",
       "    .dataframe tbody tr th:only-of-type {\n",
       "        vertical-align: middle;\n",
       "    }\n",
       "\n",
       "    .dataframe tbody tr th {\n",
       "        vertical-align: top;\n",
       "    }\n",
       "\n",
       "    .dataframe thead th {\n",
       "        text-align: right;\n",
       "    }\n",
       "</style>\n",
       "<table border=\"1\" class=\"dataframe\">\n",
       "  <thead>\n",
       "    <tr style=\"text-align: right;\">\n",
       "      <th></th>\n",
       "      <th>max_depth</th>\n",
       "      <th>AUC_Decision_Tree</th>\n",
       "    </tr>\n",
       "  </thead>\n",
       "  <tbody>\n",
       "    <tr>\n",
       "      <th>0</th>\n",
       "      <td>2</td>\n",
       "      <td>0.885622</td>\n",
       "    </tr>\n",
       "    <tr>\n",
       "      <th>1</th>\n",
       "      <td>5</td>\n",
       "      <td>0.906494</td>\n",
       "    </tr>\n",
       "    <tr>\n",
       "      <th>2</th>\n",
       "      <td>10</td>\n",
       "      <td>0.902804</td>\n",
       "    </tr>\n",
       "    <tr>\n",
       "      <th>3</th>\n",
       "      <td>20</td>\n",
       "      <td>0.834517</td>\n",
       "    </tr>\n",
       "    <tr>\n",
       "      <th>4</th>\n",
       "      <td>30</td>\n",
       "      <td>0.748936</td>\n",
       "    </tr>\n",
       "    <tr>\n",
       "      <th>5</th>\n",
       "      <td>40</td>\n",
       "      <td>0.709056</td>\n",
       "    </tr>\n",
       "    <tr>\n",
       "      <th>6</th>\n",
       "      <td>50</td>\n",
       "      <td>0.708102</td>\n",
       "    </tr>\n",
       "    <tr>\n",
       "      <th>7</th>\n",
       "      <td>100</td>\n",
       "      <td>0.707280</td>\n",
       "    </tr>\n",
       "  </tbody>\n",
       "</table>\n",
       "</div>"
      ],
      "text/plain": [
       "   max_depth  AUC_Decision_Tree\n",
       "0          2           0.885622\n",
       "1          5           0.906494\n",
       "2         10           0.902804\n",
       "3         20           0.834517\n",
       "4         30           0.748936\n",
       "5         40           0.709056\n",
       "6         50           0.708102\n",
       "7        100           0.707280"
      ]
     },
     "execution_count": 26,
     "metadata": {},
     "output_type": "execute_result"
    }
   ],
   "source": [
    "df_score_DT"
   ]
  },
  {
   "cell_type": "code",
   "execution_count": 27,
   "id": "b09b89f7",
   "metadata": {
    "execution": {
     "iopub.execute_input": "2024-02-01T17:05:52.056267Z",
     "iopub.status.busy": "2024-02-01T17:05:52.055789Z",
     "iopub.status.idle": "2024-02-01T17:05:52.067571Z",
     "shell.execute_reply": "2024-02-01T17:05:52.066112Z"
    },
    "papermill": {
     "duration": 0.03809,
     "end_time": "2024-02-01T17:05:52.070024",
     "exception": false,
     "start_time": "2024-02-01T17:05:52.031934",
     "status": "completed"
    },
    "tags": []
   },
   "outputs": [
    {
     "data": {
      "text/html": [
       "<div>\n",
       "<style scoped>\n",
       "    .dataframe tbody tr th:only-of-type {\n",
       "        vertical-align: middle;\n",
       "    }\n",
       "\n",
       "    .dataframe tbody tr th {\n",
       "        vertical-align: top;\n",
       "    }\n",
       "\n",
       "    .dataframe thead th {\n",
       "        text-align: right;\n",
       "    }\n",
       "</style>\n",
       "<table border=\"1\" class=\"dataframe\">\n",
       "  <thead>\n",
       "    <tr style=\"text-align: right;\">\n",
       "      <th></th>\n",
       "      <th>max_depth</th>\n",
       "      <th>AUC_Random_Forest</th>\n",
       "    </tr>\n",
       "  </thead>\n",
       "  <tbody>\n",
       "    <tr>\n",
       "      <th>0</th>\n",
       "      <td>2</td>\n",
       "      <td>0.904408</td>\n",
       "    </tr>\n",
       "    <tr>\n",
       "      <th>1</th>\n",
       "      <td>5</td>\n",
       "      <td>0.913194</td>\n",
       "    </tr>\n",
       "    <tr>\n",
       "      <th>2</th>\n",
       "      <td>10</td>\n",
       "      <td>0.922668</td>\n",
       "    </tr>\n",
       "    <tr>\n",
       "      <th>3</th>\n",
       "      <td>20</td>\n",
       "      <td>0.935152</td>\n",
       "    </tr>\n",
       "    <tr>\n",
       "      <th>4</th>\n",
       "      <td>30</td>\n",
       "      <td>0.936116</td>\n",
       "    </tr>\n",
       "    <tr>\n",
       "      <th>5</th>\n",
       "      <td>40</td>\n",
       "      <td>0.935350</td>\n",
       "    </tr>\n",
       "    <tr>\n",
       "      <th>6</th>\n",
       "      <td>50</td>\n",
       "      <td>0.934696</td>\n",
       "    </tr>\n",
       "    <tr>\n",
       "      <th>7</th>\n",
       "      <td>100</td>\n",
       "      <td>0.935189</td>\n",
       "    </tr>\n",
       "    <tr>\n",
       "      <th>8</th>\n",
       "      <td>250</td>\n",
       "      <td>0.934884</td>\n",
       "    </tr>\n",
       "    <tr>\n",
       "      <th>9</th>\n",
       "      <td>500</td>\n",
       "      <td>0.935594</td>\n",
       "    </tr>\n",
       "  </tbody>\n",
       "</table>\n",
       "</div>"
      ],
      "text/plain": [
       "   max_depth  AUC_Random_Forest\n",
       "0          2           0.904408\n",
       "1          5           0.913194\n",
       "2         10           0.922668\n",
       "3         20           0.935152\n",
       "4         30           0.936116\n",
       "5         40           0.935350\n",
       "6         50           0.934696\n",
       "7        100           0.935189\n",
       "8        250           0.934884\n",
       "9        500           0.935594"
      ]
     },
     "execution_count": 27,
     "metadata": {},
     "output_type": "execute_result"
    }
   ],
   "source": [
    "df_score_RF"
   ]
  },
  {
   "cell_type": "code",
   "execution_count": 28,
   "id": "8141fe64",
   "metadata": {
    "execution": {
     "iopub.execute_input": "2024-02-01T17:05:52.116905Z",
     "iopub.status.busy": "2024-02-01T17:05:52.116433Z",
     "iopub.status.idle": "2024-02-01T17:05:52.128164Z",
     "shell.execute_reply": "2024-02-01T17:05:52.126658Z"
    },
    "papermill": {
     "duration": 0.038499,
     "end_time": "2024-02-01T17:05:52.130578",
     "exception": false,
     "start_time": "2024-02-01T17:05:52.092079",
     "status": "completed"
    },
    "tags": []
   },
   "outputs": [
    {
     "data": {
      "text/html": [
       "<div>\n",
       "<style scoped>\n",
       "    .dataframe tbody tr th:only-of-type {\n",
       "        vertical-align: middle;\n",
       "    }\n",
       "\n",
       "    .dataframe tbody tr th {\n",
       "        vertical-align: top;\n",
       "    }\n",
       "\n",
       "    .dataframe thead th {\n",
       "        text-align: right;\n",
       "    }\n",
       "</style>\n",
       "<table border=\"1\" class=\"dataframe\">\n",
       "  <thead>\n",
       "    <tr style=\"text-align: right;\">\n",
       "      <th></th>\n",
       "      <th>max_depth</th>\n",
       "      <th>AUC_XGB_Classifier</th>\n",
       "    </tr>\n",
       "  </thead>\n",
       "  <tbody>\n",
       "    <tr>\n",
       "      <th>0</th>\n",
       "      <td>2</td>\n",
       "      <td>0.918900</td>\n",
       "    </tr>\n",
       "    <tr>\n",
       "      <th>1</th>\n",
       "      <td>5</td>\n",
       "      <td>0.923996</td>\n",
       "    </tr>\n",
       "    <tr>\n",
       "      <th>2</th>\n",
       "      <td>10</td>\n",
       "      <td>0.923054</td>\n",
       "    </tr>\n",
       "    <tr>\n",
       "      <th>3</th>\n",
       "      <td>20</td>\n",
       "      <td>0.921752</td>\n",
       "    </tr>\n",
       "    <tr>\n",
       "      <th>4</th>\n",
       "      <td>30</td>\n",
       "      <td>0.921872</td>\n",
       "    </tr>\n",
       "    <tr>\n",
       "      <th>5</th>\n",
       "      <td>40</td>\n",
       "      <td>0.921209</td>\n",
       "    </tr>\n",
       "    <tr>\n",
       "      <th>6</th>\n",
       "      <td>50</td>\n",
       "      <td>0.920392</td>\n",
       "    </tr>\n",
       "    <tr>\n",
       "      <th>7</th>\n",
       "      <td>100</td>\n",
       "      <td>0.919847</td>\n",
       "    </tr>\n",
       "  </tbody>\n",
       "</table>\n",
       "</div>"
      ],
      "text/plain": [
       "   max_depth  AUC_XGB_Classifier\n",
       "0          2            0.918900\n",
       "1          5            0.923996\n",
       "2         10            0.923054\n",
       "3         20            0.921752\n",
       "4         30            0.921872\n",
       "5         40            0.921209\n",
       "6         50            0.920392\n",
       "7        100            0.919847"
      ]
     },
     "execution_count": 28,
     "metadata": {},
     "output_type": "execute_result"
    }
   ],
   "source": [
    "df_score_XGB"
   ]
  },
  {
   "cell_type": "code",
   "execution_count": 29,
   "id": "9f3f484d",
   "metadata": {
    "execution": {
     "iopub.execute_input": "2024-02-01T17:05:52.264682Z",
     "iopub.status.busy": "2024-02-01T17:05:52.264217Z",
     "iopub.status.idle": "2024-02-01T17:05:52.275910Z",
     "shell.execute_reply": "2024-02-01T17:05:52.274799Z"
    },
    "papermill": {
     "duration": 0.125119,
     "end_time": "2024-02-01T17:05:52.278072",
     "exception": false,
     "start_time": "2024-02-01T17:05:52.152953",
     "status": "completed"
    },
    "tags": []
   },
   "outputs": [
    {
     "data": {
      "text/html": [
       "<div>\n",
       "<style scoped>\n",
       "    .dataframe tbody tr th:only-of-type {\n",
       "        vertical-align: middle;\n",
       "    }\n",
       "\n",
       "    .dataframe tbody tr th {\n",
       "        vertical-align: top;\n",
       "    }\n",
       "\n",
       "    .dataframe thead th {\n",
       "        text-align: right;\n",
       "    }\n",
       "</style>\n",
       "<table border=\"1\" class=\"dataframe\">\n",
       "  <thead>\n",
       "    <tr style=\"text-align: right;\">\n",
       "      <th></th>\n",
       "      <th>n_neighbors</th>\n",
       "      <th>AUC_KNeighbors</th>\n",
       "    </tr>\n",
       "  </thead>\n",
       "  <tbody>\n",
       "    <tr>\n",
       "      <th>0</th>\n",
       "      <td>2</td>\n",
       "      <td>0.548780</td>\n",
       "    </tr>\n",
       "    <tr>\n",
       "      <th>1</th>\n",
       "      <td>5</td>\n",
       "      <td>0.578893</td>\n",
       "    </tr>\n",
       "    <tr>\n",
       "      <th>2</th>\n",
       "      <td>10</td>\n",
       "      <td>0.605801</td>\n",
       "    </tr>\n",
       "    <tr>\n",
       "      <th>3</th>\n",
       "      <td>20</td>\n",
       "      <td>0.619919</td>\n",
       "    </tr>\n",
       "    <tr>\n",
       "      <th>4</th>\n",
       "      <td>30</td>\n",
       "      <td>0.629376</td>\n",
       "    </tr>\n",
       "    <tr>\n",
       "      <th>5</th>\n",
       "      <td>40</td>\n",
       "      <td>0.632104</td>\n",
       "    </tr>\n",
       "    <tr>\n",
       "      <th>6</th>\n",
       "      <td>50</td>\n",
       "      <td>0.628037</td>\n",
       "    </tr>\n",
       "    <tr>\n",
       "      <th>7</th>\n",
       "      <td>100</td>\n",
       "      <td>0.605240</td>\n",
       "    </tr>\n",
       "  </tbody>\n",
       "</table>\n",
       "</div>"
      ],
      "text/plain": [
       "   n_neighbors  AUC_KNeighbors\n",
       "0            2        0.548780\n",
       "1            5        0.578893\n",
       "2           10        0.605801\n",
       "3           20        0.619919\n",
       "4           30        0.629376\n",
       "5           40        0.632104\n",
       "6           50        0.628037\n",
       "7          100        0.605240"
      ]
     },
     "execution_count": 29,
     "metadata": {},
     "output_type": "execute_result"
    }
   ],
   "source": [
    "df_score_KN"
   ]
  },
  {
   "cell_type": "code",
   "execution_count": 30,
   "id": "fdc1b714",
   "metadata": {
    "execution": {
     "iopub.execute_input": "2024-02-01T17:05:52.325876Z",
     "iopub.status.busy": "2024-02-01T17:05:52.325408Z",
     "iopub.status.idle": "2024-02-01T17:05:52.337177Z",
     "shell.execute_reply": "2024-02-01T17:05:52.335947Z"
    },
    "papermill": {
     "duration": 0.038822,
     "end_time": "2024-02-01T17:05:52.339465",
     "exception": false,
     "start_time": "2024-02-01T17:05:52.300643",
     "status": "completed"
    },
    "tags": []
   },
   "outputs": [
    {
     "data": {
      "text/html": [
       "<div>\n",
       "<style scoped>\n",
       "    .dataframe tbody tr th:only-of-type {\n",
       "        vertical-align: middle;\n",
       "    }\n",
       "\n",
       "    .dataframe tbody tr th {\n",
       "        vertical-align: top;\n",
       "    }\n",
       "\n",
       "    .dataframe thead th {\n",
       "        text-align: right;\n",
       "    }\n",
       "</style>\n",
       "<table border=\"1\" class=\"dataframe\">\n",
       "  <thead>\n",
       "    <tr style=\"text-align: right;\">\n",
       "      <th></th>\n",
       "      <th>n_estimators</th>\n",
       "      <th>AUC_AdaBoost</th>\n",
       "    </tr>\n",
       "  </thead>\n",
       "  <tbody>\n",
       "    <tr>\n",
       "      <th>0</th>\n",
       "      <td>100</td>\n",
       "      <td>0.911266</td>\n",
       "    </tr>\n",
       "    <tr>\n",
       "      <th>1</th>\n",
       "      <td>500</td>\n",
       "      <td>0.917422</td>\n",
       "    </tr>\n",
       "    <tr>\n",
       "      <th>2</th>\n",
       "      <td>1000</td>\n",
       "      <td>0.919335</td>\n",
       "    </tr>\n",
       "    <tr>\n",
       "      <th>3</th>\n",
       "      <td>2000</td>\n",
       "      <td>0.921190</td>\n",
       "    </tr>\n",
       "  </tbody>\n",
       "</table>\n",
       "</div>"
      ],
      "text/plain": [
       "   n_estimators  AUC_AdaBoost\n",
       "0           100      0.911266\n",
       "1           500      0.917422\n",
       "2          1000      0.919335\n",
       "3          2000      0.921190"
      ]
     },
     "execution_count": 30,
     "metadata": {},
     "output_type": "execute_result"
    }
   ],
   "source": [
    "df_score_ADA"
   ]
  },
  {
   "cell_type": "code",
   "execution_count": 31,
   "id": "ba0b6578",
   "metadata": {
    "execution": {
     "iopub.execute_input": "2024-02-01T17:05:52.387111Z",
     "iopub.status.busy": "2024-02-01T17:05:52.386401Z",
     "iopub.status.idle": "2024-02-01T17:06:04.617252Z",
     "shell.execute_reply": "2024-02-01T17:06:04.616002Z"
    },
    "papermill": {
     "duration": 12.258174,
     "end_time": "2024-02-01T17:06:04.620291",
     "exception": false,
     "start_time": "2024-02-01T17:05:52.362117",
     "status": "completed"
    },
    "tags": []
   },
   "outputs": [
    {
     "name": "stdout",
     "output_type": "stream",
     "text": [
      "0.9350517895153405\n"
     ]
    }
   ],
   "source": [
    "RF=RandomForestClassifier(max_depth=40)\n",
    "RF.fit(X_train,y_train)\n",
    "y_pred_final=RF.predict_proba(X_test)[:,1]\n",
    "AUC_final=roc_auc_score(y_test,y_pred_final)\n",
    "print(AUC_final)"
   ]
  },
  {
   "cell_type": "code",
   "execution_count": 32,
   "id": "e653fb3f",
   "metadata": {
    "execution": {
     "iopub.execute_input": "2024-02-01T17:06:04.669207Z",
     "iopub.status.busy": "2024-02-01T17:06:04.667921Z",
     "iopub.status.idle": "2024-02-01T17:06:04.677086Z",
     "shell.execute_reply": "2024-02-01T17:06:04.676201Z"
    },
    "papermill": {
     "duration": 0.035842,
     "end_time": "2024-02-01T17:06:04.679529",
     "exception": false,
     "start_time": "2024-02-01T17:06:04.643687",
     "status": "completed"
    },
    "tags": []
   },
   "outputs": [],
   "source": [
    "FBR,TPR,threshould=roc_curve(y_test,y_pred_final)"
   ]
  },
  {
   "cell_type": "code",
   "execution_count": 33,
   "id": "aa88fd60",
   "metadata": {
    "execution": {
     "iopub.execute_input": "2024-02-01T17:06:04.727727Z",
     "iopub.status.busy": "2024-02-01T17:06:04.726595Z",
     "iopub.status.idle": "2024-02-01T17:06:04.965711Z",
     "shell.execute_reply": "2024-02-01T17:06:04.964462Z"
    },
    "papermill": {
     "duration": 0.266303,
     "end_time": "2024-02-01T17:06:04.968724",
     "exception": false,
     "start_time": "2024-02-01T17:06:04.702421",
     "status": "completed"
    },
    "tags": []
   },
   "outputs": [
    {
     "data": {
      "image/png": "[encoded data removed]",
      "text/plain": [
       "<Figure size 640x480 with 1 Axes>"
      ]
     },
     "metadata": {},
     "output_type": "display_data"
    }
   ],
   "source": [
    "plt.plot(FBR, TPR, label='ROC curve (AUC = {:.2f})'.format(AUC_final))\n",
    "plt.plot([0, 1], [0, 1], 'k--')  # Diagonal line representing random prediction\n",
    "plt.xlabel('False Positive Rate (FPR)')\n",
    "plt.ylabel('True Positive Rate (TPR)')\n",
    "plt.title('Receiver Operating Characteristic (ROC) Curve')\n",
    "plt.legend(loc='lower right')\n",
    "plt.show()"
   ]
  },
  {
   "cell_type": "code",
   "execution_count": 34,
   "id": "68e33f35",
   "metadata": {
    "execution": {
     "iopub.execute_input": "2024-02-01T17:06:05.019580Z",
     "iopub.status.busy": "2024-02-01T17:06:05.019157Z",
     "iopub.status.idle": "2024-02-01T17:07:53.476629Z",
     "shell.execute_reply": "2024-02-01T17:07:53.475409Z"
    },
    "papermill": {
     "duration": 108.487374,
     "end_time": "2024-02-01T17:07:53.479986",
     "exception": false,
     "start_time": "2024-02-01T17:06:04.992612",
     "status": "completed"
    },
    "tags": []
   },
   "outputs": [],
   "source": [
    "valid_scores=cross_val_score(RF,X,y,cv=8,scoring='roc_auc')"
   ]
  },
  {
   "cell_type": "code",
   "execution_count": 35,
   "id": "3bd771ad",
   "metadata": {
    "execution": {
     "iopub.execute_input": "2024-02-01T17:07:53.531329Z",
     "iopub.status.busy": "2024-02-01T17:07:53.530798Z",
     "iopub.status.idle": "2024-02-01T17:07:53.537367Z",
     "shell.execute_reply": "2024-02-01T17:07:53.536034Z"
    },
    "papermill": {
     "duration": 0.0356,
     "end_time": "2024-02-01T17:07:53.540383",
     "exception": false,
     "start_time": "2024-02-01T17:07:53.504783",
     "status": "completed"
    },
    "tags": []
   },
   "outputs": [
    {
     "name": "stdout",
     "output_type": "stream",
     "text": [
      "valid_scores for cv 1 is 0.9121414413420152\n",
      "valid_scores for cv 2 is 0.9240957068756208\n",
      "valid_scores for cv 3 is 0.9269182209469154\n",
      "valid_scores for cv 4 is 0.9317908398631498\n",
      "valid_scores for cv 5 is 0.9388473171866674\n",
      "valid_scores for cv 6 is 0.9364409903802556\n",
      "valid_scores for cv 7 is 0.938412223419656\n",
      "valid_scores for cv 8 is 0.9534826706413031\n"
     ]
    }
   ],
   "source": [
    "for i in range(8):\n",
    "     print(f'valid_scores for cv {i+1} is {valid_scores[i]}')"
   ]
  },
  {
   "cell_type": "code",
   "execution_count": 36,
   "id": "1d2dd88b",
   "metadata": {
    "execution": {
     "iopub.execute_input": "2024-02-01T17:07:53.590083Z",
     "iopub.status.busy": "2024-02-01T17:07:53.589686Z",
     "iopub.status.idle": "2024-02-01T17:07:53.595377Z",
     "shell.execute_reply": "2024-02-01T17:07:53.594170Z"
    },
    "papermill": {
     "duration": 0.034231,
     "end_time": "2024-02-01T17:07:53.598389",
     "exception": false,
     "start_time": "2024-02-01T17:07:53.564158",
     "status": "completed"
    },
    "tags": []
   },
   "outputs": [
    {
     "name": "stdout",
     "output_type": "stream",
     "text": [
      "the average validation score for predicting Hazardous objects around the globe is 0.9327661763319479\n"
     ]
    }
   ],
   "source": [
    "print(f'the average validation score for predicting Hazardous objects around the globe is {valid_scores.mean()}')"
   ]
  },
  {
   "cell_type": "code",
   "execution_count": null,
   "id": "759c8500",
   "metadata": {
    "papermill": {
     "duration": 0.023668,
     "end_time": "2024-02-01T17:07:53.645673",
     "exception": false,
     "start_time": "2024-02-01T17:07:53.622005",
     "status": "completed"
    },
    "tags": []
   },
   "outputs": [],
   "source": []
  }
 ],
 "metadata": {
  "kaggle": {
   "accelerator": "none",
   "dataSources": [
    {
     "datasetId": 2272878,
     "sourceId": 3816674,
     "sourceType": "datasetVersion"
    }
   ],
   "dockerImageVersionId": 30646,
   "isGpuEnabled": false,
   "isInternetEnabled": true,
   "language": "python",
   "sourceType": "notebook"
  },
  "kernelspec": {
   "display_name": "Python 3",
   "language": "python",
   "name": "python3"
  },
  "language_info": {
   "codemirror_mode": {
    "name": "ipython",
    "version": 3
   },
   "file_extension": ".py",
   "mimetype": "text/x-python",
   "name": "python",
   "nbconvert_exporter": "python",
   "pygments_lexer": "ipython3",
   "version": "3.10.13"
  },
  "papermill": {
   "default_parameters": {},
   "duration": 554.214073,
   "end_time": "2024-02-01T17:07:54.494677",
   "environment_variables": {},
   "exception": null,
   "input_path": "__notebook__.ipynb",
   "output_path": "__notebook__.ipynb",
   "parameters": {},
   "start_time": "2024-02-01T16:58:40.280604",
   "version": "2.5.0"
  }
 },
 "nbformat": 4,
 "nbformat_minor": 5
}
